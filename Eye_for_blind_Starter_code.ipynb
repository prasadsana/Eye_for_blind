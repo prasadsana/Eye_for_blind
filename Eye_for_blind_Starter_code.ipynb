{
  "nbformat": 4,
  "nbformat_minor": 0,
  "metadata": {
    "accelerator": "TPU",
    "colab": {
      "name": "Eye_for_blind_Starter_code.ipynb",
      "provenance": [],
      "collapsed_sections": [
        "nCUwHJLvIdJK"
      ]
    },
    "kernelspec": {
      "display_name": "Python 3",
      "language": "python",
      "name": "python3"
    },
    "language_info": {
      "codemirror_mode": {
        "name": "ipython",
        "version": 3
      },
      "file_extension": ".py",
      "mimetype": "text/x-python",
      "name": "python",
      "nbconvert_exporter": "python",
      "pygments_lexer": "ipython3",
      "version": "3.7.3"
    }
  },
  "cells": [
    {
      "cell_type": "markdown",
      "metadata": {
        "id": "odIu_ZFKIdIe"
      },
      "source": [
        "# EYE FOR BLIND\n",
        "This notebook will be used to prepare the capstone project 'Eye for Blind'"
      ]
    },
    {
      "cell_type": "code",
      "metadata": {
        "id": "FBcH8QonIdIp"
      },
      "source": [
        "#Import all the required libraries\n",
        "import tensorflow as tf\n",
        "import numpy as np\n",
        "import pandas as pd\n",
        "import matplotlib.pyplot as plt\n",
        "from sklearn.feature_extraction.text import CountVectorizer\n",
        "from PIL import Image\n",
        "import glob\n",
        "import os\n",
        "import time\n",
        "import random\n",
        "import collections\n",
        "from collections import Counter\n",
        "from tqdm import tqdm"
      ],
      "execution_count": null,
      "outputs": []
    },
    {
      "cell_type": "markdown",
      "metadata": {
        "id": "PxDZx5_DIdIr"
      },
      "source": [
        "Let's read the dataset"
      ]
    },
    {
      "cell_type": "markdown",
      "metadata": {
        "id": "U2bP59K5IdIs"
      },
      "source": [
        "## Data understanding\n",
        "1.Import the dataset and read image & captions into two seperate variables\n",
        "\n",
        "2.Visualise both the images & text present in the dataset\n",
        "\n",
        "3.Create a dataframe which summarizes the image, path & captions as a dataframe\n",
        "\n",
        "4.Create a list which contains all the captions & path\n",
        "\n",
        "5.Visualise the top 30 occuring words in the captions\n",
        "\n"
      ]
    },
    {
      "cell_type": "code",
      "metadata": {
        "colab": {
          "base_uri": "https://localhost:8080/"
        },
        "id": "yHl1kztvNIK4",
        "outputId": "b102e4d3-c271-498f-fda6-7e6d7fc4bd92"
      },
      "source": [
        "from google.colab import drive\n",
        "drive.mount('/content/drive')"
      ],
      "execution_count": null,
      "outputs": [
        {
          "output_type": "stream",
          "text": [
            "Mounted at /content/drive\n"
          ],
          "name": "stdout"
        }
      ]
    },
    {
      "cell_type": "code",
      "metadata": {
        "colab": {
          "base_uri": "https://localhost:8080/"
        },
        "id": "Azmx6HRCOnf8",
        "outputId": "1ac58f5a-78c2-4fa7-beaf-5be195543dbd"
      },
      "source": [
        "!ls \"/content/drive/MyDrive/Upgrad\""
      ],
      "execution_count": null,
      "outputs": [
        {
          "output_type": "stream",
          "text": [
            "captions\t    Eye_for_blind_Starter_code.ipynb  Images.zip\n",
            "captions.txt.zip    Gesture_Recognition.zip\n",
            "CNN_assignment.zip  images\n"
          ],
          "name": "stdout"
        }
      ]
    },
    {
      "cell_type": "code",
      "metadata": {
        "id": "V9WEJfxJPC6F"
      },
      "source": [
        "annotations_folder = \"/content/drive/MyDrive/Upgrad/captions\"\n",
        "if not os.path.exists(annotations_folder):\n",
        "  !unzip \"/content/drive/MyDrive/Upgrad/captions.txt.zip\" -d \"/content/drive/MyDrive/Upgrad/captions\""
      ],
      "execution_count": null,
      "outputs": []
    },
    {
      "cell_type": "code",
      "metadata": {
        "id": "iKf3B8azQMDm"
      },
      "source": [
        "images_folder = \"/content/drive/MyDrive/Upgrad/images\"\n",
        "if not os.path.exists(images_folder):\n",
        "  !unzip \"/content/drive/MyDrive/Upgrad/Images.zip\" -d \"/content/drive/MyDrive/Upgrad/images\""
      ],
      "execution_count": null,
      "outputs": []
    },
    {
      "cell_type": "code",
      "metadata": {
        "colab": {
          "base_uri": "https://localhost:8080/"
        },
        "id": "5jlNL0sXIdIs",
        "outputId": "1ecdefd7-32fb-4889-c06c-72e79783b772"
      },
      "source": [
        "#Import the dataset and read the image into a seperate variable\n",
        "\n",
        "images='/content/drive/MyDrive/Upgrad/images'\n",
        "\n",
        "all_imgs = glob.glob(images + '/*.jpg',recursive=True)\n",
        "print(\"The total images present in the dataset: {}\".format(len(all_imgs)))"
      ],
      "execution_count": null,
      "outputs": [
        {
          "output_type": "stream",
          "text": [
            "The total images present in the dataset: 8091\n"
          ],
          "name": "stdout"
        }
      ]
    },
    {
      "cell_type": "code",
      "metadata": {
        "colab": {
          "base_uri": "https://localhost:8080/"
        },
        "id": "_MqIkXo6IdIt",
        "outputId": "a6376fd4-0d47-4e28-8a2b-462f40d21eaf"
      },
      "source": [
        "#Import the dataset and read the text file into a seperate variable\n",
        "\n",
        "def load_doc(filename):\n",
        "    \n",
        "    #your code here\n",
        "    with open(filename, 'r') as f:\n",
        "      text = f.readlines()\n",
        "    return text\n",
        "text_file = \"/content/drive/MyDrive/Upgrad/captions/captions.txt\"\n",
        "doc = load_doc(text_file)\n",
        "doc = doc[1:]\n",
        "print(doc[:300])\n",
        "print(len(doc)) #total number of captions"
      ],
      "execution_count": null,
      "outputs": [
        {
          "output_type": "stream",
          "text": [
            "['1000268201_693b08cb0e.jpg,A child in a pink dress is climbing up a set of stairs in an entry way .\\n', '1000268201_693b08cb0e.jpg,A girl going into a wooden building .\\n', '1000268201_693b08cb0e.jpg,A little girl climbing into a wooden playhouse .\\n', '1000268201_693b08cb0e.jpg,A little girl climbing the stairs to her playhouse .\\n', '1000268201_693b08cb0e.jpg,A little girl in a pink dress going into a wooden cabin .\\n', '1001773457_577c3a7d70.jpg,A black dog and a spotted dog are fighting\\n', '1001773457_577c3a7d70.jpg,A black dog and a tri-colored dog playing with each other on the road .\\n', '1001773457_577c3a7d70.jpg,A black dog and a white dog with brown spots are staring at each other in the street .\\n', '1001773457_577c3a7d70.jpg,Two dogs of different breeds looking at each other on the road .\\n', '1001773457_577c3a7d70.jpg,Two dogs on pavement moving toward each other .\\n', '1002674143_1b742ab4b8.jpg,A little girl covered in paint sits in front of a painted rainbow with her hands in a bowl .\\n', '1002674143_1b742ab4b8.jpg,A little girl is sitting in front of a large painted rainbow .\\n', '1002674143_1b742ab4b8.jpg,A small girl in the grass plays with fingerpaints in front of a white canvas with a rainbow on it .\\n', '1002674143_1b742ab4b8.jpg,There is a girl with pigtails sitting in front of a rainbow painting .\\n', '1002674143_1b742ab4b8.jpg,Young girl with pigtails painting outside in the grass .\\n', '1003163366_44323f5815.jpg,A man lays on a bench while his dog sits by him .\\n', '1003163366_44323f5815.jpg,A man lays on the bench to which a white dog is also tied .\\n', '1003163366_44323f5815.jpg,a man sleeping on a bench outside with a white and black dog sitting next to him .\\n', '1003163366_44323f5815.jpg,A shirtless man lies on a park bench with his dog .\\n', '1003163366_44323f5815.jpg,man laying on bench holding leash of dog sitting on ground\\n', '1007129816_e794419615.jpg,A man in an orange hat starring at something .\\n', '1007129816_e794419615.jpg,A man wears an orange hat and glasses .\\n', '1007129816_e794419615.jpg,A man with gauges and glasses is wearing a Blitz hat .\\n', '1007129816_e794419615.jpg,A man with glasses is wearing a beer can crocheted hat .\\n', '1007129816_e794419615.jpg,The man with pierced ears is wearing glasses and an orange hat .\\n', '1007320043_627395c3d8.jpg,A child playing on a rope net .\\n', '1007320043_627395c3d8.jpg,A little girl climbing on red roping .\\n', '1007320043_627395c3d8.jpg,A little girl in pink climbs a rope bridge at the park .\\n', '1007320043_627395c3d8.jpg,A small child grips onto the red ropes at the playground .\\n', '1007320043_627395c3d8.jpg,The small child climbs on a red ropes on a playground .\\n', '1009434119_febe49276a.jpg,A black and white dog is running in a grassy garden surrounded by a white fence .\\n', '1009434119_febe49276a.jpg,A black and white dog is running through the grass .\\n', '1009434119_febe49276a.jpg,A Boston terrier is running in the grass .\\n', '1009434119_febe49276a.jpg,A Boston Terrier is running on lush green grass in front of a white fence .\\n', '1009434119_febe49276a.jpg,A dog runs on the green grass near a wooden fence .\\n', '1012212859_01547e3f17.jpg,\"A dog shakes its head near the shore , a red ball next to it .\"\\n', '1012212859_01547e3f17.jpg,A white dog shakes on the edge of a beach with an orange ball .\\n', '1012212859_01547e3f17.jpg,\"Dog with orange ball at feet , stands on shore shaking off water\"\\n', '1012212859_01547e3f17.jpg,White dog playing with a red ball on the shore near the water .\\n', '1012212859_01547e3f17.jpg,White dog with brown ears standing near water with head turned to one side .\\n', '1015118661_980735411b.jpg,A boy smiles in front of a stony wall in a city .\\n', '1015118661_980735411b.jpg,A little boy is standing on the street while a man in overalls is working on a stone wall .\\n', '1015118661_980735411b.jpg,A young boy runs aross the street .\\n', '1015118661_980735411b.jpg,A young child is walking on a stone paved street with a metal pole and a man behind him .\\n', '1015118661_980735411b.jpg,Smiling boy in white shirt and blue jeans in front of rock wall with man in overalls behind him .\\n', '1015584366_dfcec3c85a.jpg,A black dog leaps over a log .\\n', '1015584366_dfcec3c85a.jpg,A grey dog is leaping over a fallen tree .\\n', '1015584366_dfcec3c85a.jpg,A large black dog leaps a fallen log .\\n', '1015584366_dfcec3c85a.jpg,A mottled black and grey dog in a blue collar jumping over a fallen tree .\\n', '1015584366_dfcec3c85a.jpg,The black dog jumped the tree stump .\\n', '101654506_8eb26cfb60.jpg,A brown and white dog is running through the snow .\\n', '101654506_8eb26cfb60.jpg,A dog is running in the snow\\n', '101654506_8eb26cfb60.jpg,A dog running through snow .\\n', '101654506_8eb26cfb60.jpg,a white and brown dog is running through a snow covered field .\\n', '101654506_8eb26cfb60.jpg,The white and brown dog is running over the surface of the snow .\\n', '101669240_b2d3e7f17b.jpg,A man in a hat is displaying pictures next to a skier in a blue hat .\\n', '101669240_b2d3e7f17b.jpg,A man skis past another man displaying paintings in the snow .\\n', '101669240_b2d3e7f17b.jpg,A person wearing skis looking at framed pictures set up in the snow .\\n', '101669240_b2d3e7f17b.jpg,A skier looks at framed pictures in the snow next to trees .\\n', '101669240_b2d3e7f17b.jpg,Man on skis looking at artwork for sale in the snow\\n', '1016887272_03199f49c4.jpg,A collage of one person climbing a cliff .\\n', '1016887272_03199f49c4.jpg,A group of people are rock climbing on a rock climbing wall .\\n', '1016887272_03199f49c4.jpg,A group of people climbing a rock while one man belays\\n', '1016887272_03199f49c4.jpg,Seven climbers are ascending a rock face whilst another man stands holding the rope .\\n', '1016887272_03199f49c4.jpg,Several climbers in a row are climbing the rock while the man in red watches and holds the line .\\n', '1019077836_6fc9b15408.jpg,A brown dog chases the water from a sprinkler on a lawn .\\n', '1019077836_6fc9b15408.jpg,a brown dog plays with the hose .\\n', '1019077836_6fc9b15408.jpg,A brown dog running on a lawn near a garden hose\\n', '1019077836_6fc9b15408.jpg,A dog is playing with a hose .\\n', '1019077836_6fc9b15408.jpg,Large brown dog running away from the sprinkler in the grass .\\n', '1019604187_d087bf9a5f.jpg,A dog prepares to catch a thrown object in a field with nearby cars .\\n', '1019604187_d087bf9a5f.jpg,A white dog is about to catch a yellow ball in its mouth .\\n', '1019604187_d087bf9a5f.jpg,A white dog is about to catch a yellow dog toy .\\n', '1019604187_d087bf9a5f.jpg,A white dog is ready to catch a yellow ball flying through the air .\\n', '1019604187_d087bf9a5f.jpg,A white dog running after a yellow ball\\n', '1020651753_06077ec457.jpg,a black and white dog jumping in the air to get a toy .\\n', '1020651753_06077ec457.jpg,A black and white dog jumps up towards a yellow toy .\\n', '1020651753_06077ec457.jpg,A dog leaps to catch a ball in a field .\\n', '1020651753_06077ec457.jpg,A white dog is trying to catch a ball in midair over a grassy field .\\n', '1020651753_06077ec457.jpg,The white dog is playing in a green field with a yellow toy .\\n', '1022454332_6af2c1449a.jpg,A child and a woman are at waters edge in a big city .\\n', '1022454332_6af2c1449a.jpg,a large lake with a lone duck swimming in it with several people around the edge of it .\\n', '1022454332_6af2c1449a.jpg,A little boy at a lake watching a duck .\\n', '1022454332_6af2c1449a.jpg,A young boy waves his hand at the duck in the water surrounded by a green park .\\n', '1022454332_6af2c1449a.jpg,\"Two people are at the edge of a lake , facing the water and the city skyline .\"\\n', '1022454428_b6b660a67b.jpg,\"A couple and an infant , being held by the male , sitting next to a pond with a near by stroller .\"\\n', '1022454428_b6b660a67b.jpg,A couple sit on the grass with a baby and stroller .\\n', '1022454428_b6b660a67b.jpg,A couple with their newborn baby sitting under a tree facing a lake .\\n', '1022454428_b6b660a67b.jpg,A man and woman care for an infant along the side of a body of water .\\n', '1022454428_b6b660a67b.jpg,Couple with a baby sit outdoors next to their stroller .\\n', '1022975728_75515238d8.jpg,A black dog running in the surf .\\n', '1022975728_75515238d8.jpg,A black lab with tags frolicks in the water .\\n', '1022975728_75515238d8.jpg,A dog splashes in the water\\n', '1022975728_75515238d8.jpg,The black dog runs through the water .\\n', '1022975728_75515238d8.jpg,This is a black dog splashing in the water .\\n', '102351840_323e3de834.jpg,A man drilling a hole in the ice .\\n', '102351840_323e3de834.jpg,A man is drilling through the frozen ice of a pond .\\n', '102351840_323e3de834.jpg,A person in the snow drilling a hole in the ice .\\n', '102351840_323e3de834.jpg,A person standing on a frozen lake .\\n', '102351840_323e3de834.jpg,Two men are ice fishing .\\n', '1024138940_f1fefbdce1.jpg,Two different breeds of brown and white dogs play on the beach .\\n', '1024138940_f1fefbdce1.jpg,Two dogs are making a turn on a soft sand beach .\\n', '1024138940_f1fefbdce1.jpg,Two dogs playing in the sand at the beach .\\n', '1024138940_f1fefbdce1.jpg,Two dogs playing together on a beach .\\n', '1024138940_f1fefbdce1.jpg,Two large tan dogs play along a sandy beach .\\n', '102455176_5f8ead62d5.jpg,A man uses ice picks and crampons to scale ice .\\n', '102455176_5f8ead62d5.jpg,an ice climber in a blue jacket and black pants is scaling a frozen ice wall .\\n', '102455176_5f8ead62d5.jpg,An ice climber scaling a frozen waterfall .\\n', '102455176_5f8ead62d5.jpg,A person in blue and red ice climbing with two picks .\\n', '102455176_5f8ead62d5.jpg,Climber climbing an ice wall\\n', '1026685415_0431cbf574.jpg,A black dog carries a green toy in his mouth as he walks through the grass .\\n', '1026685415_0431cbf574.jpg,A black dog carrying something through the grass .\\n', '1026685415_0431cbf574.jpg,A black dog has a blue toy in its mouth .\\n', '1026685415_0431cbf574.jpg,A dog in grass with a blue item in his mouth .\\n', '1026685415_0431cbf574.jpg,A wet black dog is carrying a green toy through the grass .\\n', '1028205764_7e8df9a2ea.jpg,A man and a baby are in a yellow kayak on water .\\n', '1028205764_7e8df9a2ea.jpg,A man and a little boy in blue life jackets are rowing a yellow canoe .\\n', '1028205764_7e8df9a2ea.jpg,A man and child kayak through gentle waters .\\n', '1028205764_7e8df9a2ea.jpg,A man and young boy ride in a yellow kayak .\\n', '1028205764_7e8df9a2ea.jpg,Man and child in yellow kayak\\n', '1030985833_b0902ea560.jpg,A black dog and a brown dog are jumping up to catch a red toy .\\n', '1030985833_b0902ea560.jpg,A black dog and a brown dog play with a red toy on a courtyard .\\n', '1030985833_b0902ea560.jpg,A brown and black lab are outside and the black lab is catching a toy in its mouth .\\n', '1030985833_b0902ea560.jpg,Black dog snaps at red and black object as brown dog lunges .\\n', '1030985833_b0902ea560.jpg,The Chocolate Lab jumps too late to get the toy as the Black Lab captures it in the driveway .\\n', '103106960_e8a41d64f8.jpg,A boy with a stick kneeling in front of a goalie net\\n', '103106960_e8a41d64f8.jpg,A child in a red jacket playing street hockey guarding a goal .\\n', '103106960_e8a41d64f8.jpg,A young kid playing the goalie in a hockey rink .\\n', '103106960_e8a41d64f8.jpg,A young male kneeling in front of a hockey goal with a hockey stick in his right hand .\\n', '103106960_e8a41d64f8.jpg,\"Hockey goalie boy in red jacket crouches by goal , with stick .\"\\n', '103195344_5d2dc613a3.jpg,A man in black is sitting next to a modern art structure in front of a glass building .\\n', '103195344_5d2dc613a3.jpg,A man sits and reads a newspaper by a sculpture outside of an office building .\\n', '103195344_5d2dc613a3.jpg,a man sits near a large statue .\\n', '103195344_5d2dc613a3.jpg,A man sitting in front of a metal sculpture in front of a building .\\n', '103195344_5d2dc613a3.jpg,The man with the backpack is sitting in a buildings courtyard in front of an art sculpture reading .\\n', '103205630_682ca7285b.jpg,A tent is being set up on the ice .\\n', '103205630_682ca7285b.jpg,Two men are about to enter an ice fishing tent on a snow covered lake .\\n', '103205630_682ca7285b.jpg,two men setting up a blue ice fishing hut on an iced over lake\\n', '103205630_682ca7285b.jpg,\"Two men , standing on an ice , looking into something covered with a blue tarp .\"\\n', '103205630_682ca7285b.jpg,Two people standing outside a blue tent structure on a snowy surface .\\n', '1032122270_ea6f0beedb.jpg,A woman crouches near three dogs in a field .\\n', '1032122270_ea6f0beedb.jpg,Three dogs are playing on grassy hill with a blue sky .\\n', '1032122270_ea6f0beedb.jpg,Three dogs are standing in the grass and a person is sitting next to them\\n', '1032122270_ea6f0beedb.jpg,Three dogs on a grassy hill\\n', '1032122270_ea6f0beedb.jpg,Three dogs stand in a grassy field while a person kneels nearby .\\n', '1032460886_4a598ed535.jpg,a man is standing in front of a skyscraper\\n', '1032460886_4a598ed535.jpg,A man stands in front of a skyscraper .\\n', '1032460886_4a598ed535.jpg,A man stands in front of a very tall building .\\n', '1032460886_4a598ed535.jpg,Behind the man in a red shirt stands a large skyscraper .\\n', '1032460886_4a598ed535.jpg,There is a skyscraper in the distance with a man walking in front of the camera .\\n', '1034276567_49bb87c51c.jpg,A boy bites hard into a treat while he sits outside .\\n', '1034276567_49bb87c51c.jpg,A child biting into a baked good .\\n', '1034276567_49bb87c51c.jpg,A small boy putting something in his mouth with both hands .\\n', '1034276567_49bb87c51c.jpg,The boy eats his food outside at the table .\\n', '1034276567_49bb87c51c.jpg,The boy is eating pizza over a tin dish .\\n', '104136873_5b5d41be75.jpg,People sit on the mountainside and check out the view .\\n', '104136873_5b5d41be75.jpg,Three people are on a hilltop overlooking a green valley .\\n', '104136873_5b5d41be75.jpg,Three people hang out on top of a big hill .\\n', '104136873_5b5d41be75.jpg,Three people overlook a green valley .\\n', '104136873_5b5d41be75.jpg,Three people rest on a ledge above the moutains .\\n', '1042020065_fb3d3ba5ba.jpg,A boy in a green shirt is looking down at many inflatable boats .\\n', '1042020065_fb3d3ba5ba.jpg,A boy in a green shirt watches kayakers .\\n', '1042020065_fb3d3ba5ba.jpg,A boy looks over a railing at the many boats and rafts below in the water .\\n', '1042020065_fb3d3ba5ba.jpg,A young boy overlooking a crowd of inflatable boats .\\n', '1042020065_fb3d3ba5ba.jpg,A young boy wearing a jersey looks down over a ledge at many boats in the water .\\n', '1042590306_95dea0916c.jpg,A man and woman pose for the camera while another man looks on .\\n', '1042590306_95dea0916c.jpg,A man is holding the hand of a woman up to his mouth in front of some buildings while another man looks on .\\n', '1042590306_95dea0916c.jpg,A multiracial couple posing for a picture\\n', '1042590306_95dea0916c.jpg,\"Asian man and blond woman holding hands outdoors , man in background watches .\"\\n', '1042590306_95dea0916c.jpg,Guy in blue shirt biting hand of girl in black striped jacket while another guy watches\\n', '1045521051_108ebc19be.jpg,A person eats takeout while watching a small television .\\n', '1045521051_108ebc19be.jpg,A person sits on the floor and eats in front of a television .\\n', '1045521051_108ebc19be.jpg,A television with a picture of a girl on it .\\n', '1045521051_108ebc19be.jpg,A young man sits on the floor by the television with a fast food meal in front of him .\\n', '1045521051_108ebc19be.jpg,Someone is laying in front of the TV eating food .\\n', '1048710776_bb5b0a5c7c.jpg,a couple of several people sitting on a ledge overlooking the beach\\n', '1048710776_bb5b0a5c7c.jpg,A group of people sit on a wall at the beach .\\n', '1048710776_bb5b0a5c7c.jpg,A group of teens sit on a wall by a beach .\\n', '1048710776_bb5b0a5c7c.jpg,Crowd of people at the beach .\\n', '1048710776_bb5b0a5c7c.jpg,Several young people sitting on a rail above a crowded beach .\\n', '1052358063_eae6744153.jpg,A boy takes a jump on his skateboard while another boy with a skateboard watches .\\n', '1052358063_eae6744153.jpg,A child is performing a skateboard trick while another child with a skateboard leans on a wall .\\n', '1052358063_eae6744153.jpg,A little boy skateboarder is doing a trick on his board while another young skateboarder watches .\\n', '1052358063_eae6744153.jpg,a young boy skateboarder jumping on a platform on a skateboard .\\n', '1052358063_eae6744153.jpg,Two skateboarders .\\n', '105342180_4d4a40b47f.jpg,\"A girl paddling down a large river , as seen from behind her .\"\\n', '105342180_4d4a40b47f.jpg,A woman kayaking down a river .\\n', '105342180_4d4a40b47f.jpg,A woman paddles a boat down a river .\\n', '105342180_4d4a40b47f.jpg,A woman with a paddle .\\n', '105342180_4d4a40b47f.jpg,A woman with a paddle sits in a boat on the water .\\n', '1053804096_ad278b25f1.jpg,A girl in pigtails splashes in the shallow water .\\n', '1053804096_ad278b25f1.jpg,A girls plays in the surf .\\n', '1053804096_ad278b25f1.jpg,a girl with pigtails is playing in the ocean by the beach .\\n', '1053804096_ad278b25f1.jpg,A girl with pigtails plays in the water .\\n', '1053804096_ad278b25f1.jpg,A young girl in pigtails plays in the water .\\n', '1055623002_8195a43714.jpg,A group of four children wearing pajamas have a pillow fight .\\n', '1055623002_8195a43714.jpg,A group of kids have a pillow-fight .\\n', '1055623002_8195a43714.jpg,A group of young children playing pillow fight on a bed .\\n', '1055623002_8195a43714.jpg,Children having a pillow fight .\\n', '1055623002_8195a43714.jpg,Four children are having a pillow fight .\\n', '1055753357_4fa3d8d693.jpg,Two constructions workers sit on a beam taking a break .\\n', '1055753357_4fa3d8d693.jpg,Two construction workers are sitting up on the side of a building .\\n', '1055753357_4fa3d8d693.jpg,Two construction workers sitting on an I-beam .\\n', '1055753357_4fa3d8d693.jpg,Two construction workers take a seat on a steel beam .\\n', '1055753357_4fa3d8d693.jpg,Two men take a break from construction .\\n', '1056249424_ef2a2e041c.jpg,The children are playing in the water .\\n', '1056249424_ef2a2e041c.jpg,\"Two boys , one with a yellow and orange ball , play in some water in front of a field .\"\\n', '1056249424_ef2a2e041c.jpg,Two boys play in a puddle .\\n', '1056249424_ef2a2e041c.jpg,Two children play with a balloon in mud on a sunny day .\\n', '1056249424_ef2a2e041c.jpg,Two kids are running and playing in some water .\\n', '1056338697_4f7d7ce270.jpg,A blond woman in a blue shirt appears to wait for a ride .\\n', '1056338697_4f7d7ce270.jpg,A blond woman is on the street hailing a taxi .\\n', '1056338697_4f7d7ce270.jpg,\"A woman is signaling is to traffic , as seen from behind .\"\\n', '1056338697_4f7d7ce270.jpg,A woman with blonde hair wearing a blue tube top is waving on the side of the street .\\n', '1056338697_4f7d7ce270.jpg,The woman in the blue dress is holding out her arm at oncoming traffic .\\n', '1056359656_662cee0814.jpg,A little girl looking at a brochure on train rides\\n', '1056359656_662cee0814.jpg,a young blond girl with a magizine in her hands\\n', '1056359656_662cee0814.jpg,A young girl on a train reads a book about train rides .\\n', '1056359656_662cee0814.jpg,A young girl sits on a seat and looks at a train pamphlet .\\n', '1056359656_662cee0814.jpg,Child sitting down looking at train ride brochure\\n', '1056873310_49c665eb22.jpg,A brown dog is running after a black dog on a rocky shore .\\n', '1056873310_49c665eb22.jpg,A brown dog is running after the black dog .\\n', '1056873310_49c665eb22.jpg,Two dogs playing on a beach .\\n', '1056873310_49c665eb22.jpg,Two dogs run across stones near a body of water .\\n', '1056873310_49c665eb22.jpg,Two dogs run towards each other on a rocky area with water in the background .\\n', '1057089366_ca83da0877.jpg,A boy descends off the end of a high diving board .\\n', '1057089366_ca83da0877.jpg,A child jumps off a high diving board into the pool .\\n', '1057089366_ca83da0877.jpg,A kid jumps off the diving board and into the swimming pool below .\\n', '1057089366_ca83da0877.jpg,A little kid is jumping off a high dive at the pool .\\n', '1057089366_ca83da0877.jpg,The boy is jumping off a high diving board into the pool .\\n', '1057210460_09c6f4c6c1.jpg,A guy stands by a window taking his overshirt off .\\n', '1057210460_09c6f4c6c1.jpg,A man in a tank top stands next to a chrome door .\\n', '1057210460_09c6f4c6c1.jpg,A man puts his shirt on near an elevator .\\n', '1057210460_09c6f4c6c1.jpg,A man stands by an elevator with his head down .\\n', '1057210460_09c6f4c6c1.jpg,The man is putting on his shirt near an elevator .\\n', '1057251835_6ded4ada9c.jpg,A light-colored dog runs on the beach .\\n', '1057251835_6ded4ada9c.jpg,A small yellow dog runs on a beach\\n', '1057251835_6ded4ada9c.jpg,A tan dog runs on a sandy beach .\\n', '1057251835_6ded4ada9c.jpg,A white dog is running down a rocky beach .\\n', '1057251835_6ded4ada9c.jpg,Light brown dog running along the beach .\\n', '106490881_5a2dd9b7bd.jpg,A boy in his blue swim shorts at the beach .\\n', '106490881_5a2dd9b7bd.jpg,A boy smiles for the camera at a beach .\\n', '106490881_5a2dd9b7bd.jpg,A young boy in swimming trunks is walking with his arms outstretched on the beach .\\n', '106490881_5a2dd9b7bd.jpg,Children playing on the beach .\\n', '106490881_5a2dd9b7bd.jpg,The boy is playing on the shore of an ocean .\\n', '106514190_bae200f463.jpg,A hiker standing high on a bluff overlooking the mountains below .\\n', \"106514190_bae200f463.jpg,a person on ski 's looks from hill over snow covered landscape\\n\", '106514190_bae200f463.jpg,A skier is overlooking a snow-covered mountain .\\n', '106514190_bae200f463.jpg,A skier is overlooking the beautiful white snow covered landscape .\\n', '106514190_bae200f463.jpg,A skier pauses on a mountaintop .\\n', '1067180831_a59dc64344.jpg,A black and white dog is attempting to catch a yellow and purple object in a low cut yard .\\n', '1067180831_a59dc64344.jpg,A black and white dog jumps after a yellow toy .\\n', '1067180831_a59dc64344.jpg,a black and white dog jumps to get the Frisbee .\\n', '1067180831_a59dc64344.jpg,A black dog is jumping up to catch a purple and green toy .\\n', '1067180831_a59dc64344.jpg,A dog jumps to catch a toy .\\n', '1067675215_7336a694d6.jpg,A man in blue shorts is laying in the street .\\n', '1067675215_7336a694d6.jpg,A man in blue shorts lays down outside in a parking lot .\\n', '1067675215_7336a694d6.jpg,A man laying down in middle of street during heavy traffic .\\n', '1067675215_7336a694d6.jpg,A man lies on a mat in a parking lot between a brown SUV and a yellow pickup with an open door .\\n', '1067675215_7336a694d6.jpg,A shirtless man is laying down in the middle of a busy street .\\n', '1067790824_f3cc97239b.jpg,A white and black dog and a brown dog in sandy terrain .\\n', '1067790824_f3cc97239b.jpg,A woolly dog chases a Doberman on a beach .\\n', '1067790824_f3cc97239b.jpg,One dog is chasing another one on the beach .\\n', '1067790824_f3cc97239b.jpg,The two large dogs are running through sand .\\n', '1067790824_f3cc97239b.jpg,Two large dogs chasing each other at the beach .\\n', '1072153132_53d2bb1b60.jpg,A black and white dog catches a toy in midair .\\n', '1072153132_53d2bb1b60.jpg,A dog and a tennis ball .\\n', '1072153132_53d2bb1b60.jpg,\"A dog is jumping to catch a object thrown at it ,\"\\n', '1072153132_53d2bb1b60.jpg,A dog leaps while chasing a tennis ball through a grassy field .\\n', '1072153132_53d2bb1b60.jpg,A multicolor dog jumping to catch a tennis ball in a grassy field .\\n', '107318069_e9f2ef32de.jpg,A crowd watching air balloons at night .\\n', '107318069_e9f2ef32de.jpg,A group of hot air balloons lit up at night .\\n', '107318069_e9f2ef32de.jpg,People are watching hot air balloons in the park .\\n', '107318069_e9f2ef32de.jpg,People watching hot air balloons .\\n', '107318069_e9f2ef32de.jpg,Seven large balloons are lined up at nighttime near a crowd .\\n', '1075716537_62105738b4.jpg,A child with a helmet on his head rides a bike .\\n', '1075716537_62105738b4.jpg,A little boy rides a bike down a hill on a miniature dirt bike .\\n', '1075716537_62105738b4.jpg,A young boy in a helmet rides a bike on the road .\\n', '1075716537_62105738b4.jpg,The little boy rides his bicycle in a race .\\n', '1075716537_62105738b4.jpg,The young boy pedals quickly at a BMX race .\\n', '107582366_d86f2d3347.jpg,A group of eight people are gathered around a table at night .\\n', '107582366_d86f2d3347.jpg,A group of people gathered around in the dark .\\n', '107582366_d86f2d3347.jpg,A group of people sit around a table outside on a porch at night .\\n', '107582366_d86f2d3347.jpg,A group of people sit outdoors together at night .\\n', '107582366_d86f2d3347.jpg,A group of people sitting at a table in a darkened room .\\n', '1075867198_27ca2e7efe.jpg,A man in a brown shirt and dark shorts plays on the beach with his two black dogs .\\n', '1075867198_27ca2e7efe.jpg,A man in shorts with two black dogs holds a ball throwing toy at the beach .\\n', '1075867198_27ca2e7efe.jpg,a man playing with two black dogs on the beach\\n', '1075867198_27ca2e7efe.jpg,A man with two dogs on a beach\\n', '1075867198_27ca2e7efe.jpg,Man at the beach with two dogs .\\n', '1075881101_d55c46bece.jpg,a boy cleans the bubbles off his face .\\n', '1075881101_d55c46bece.jpg,A boy covered in suds has his face wiped clean .\\n', '1075881101_d55c46bece.jpg,A boy is covered in bubbles .\\n', '1075881101_d55c46bece.jpg,A child covered in foam is climbing on a black inflatable ramp .\\n', '1075881101_d55c46bece.jpg,A person covered in soapy water is getting cleaned off .\\n', '1077546505_a4f6c4daa9.jpg,A boy in blue shorts slides down a slide into a pool .\\n', '1077546505_a4f6c4daa9.jpg,A boy in blue swimming trunks slides down a yellow slide into a wading pool with inflatable toys floating in the water .\\n', '1077546505_a4f6c4daa9.jpg,A boy rides down a slide into a small backyard pool .\\n', '1077546505_a4f6c4daa9.jpg,A boy sliding down a slide into a pool with colorful tubes .\\n', '1077546505_a4f6c4daa9.jpg,A child is falling off a slide onto colored balloons floating on a pool of water .\\n']\n",
            "40455\n"
          ],
          "name": "stdout"
        }
      ]
    },
    {
      "cell_type": "markdown",
      "metadata": {
        "id": "1rioccrwIdIu"
      },
      "source": [
        "Create a dataframe which summarizes the image, path & captions as a dataframe\n",
        "\n",
        "Each image id has 5 captions associated with it therefore the total dataset should have 40455 samples."
      ]
    },
    {
      "cell_type": "code",
      "metadata": {
        "colab": {
          "base_uri": "https://localhost:8080/",
          "height": 221
        },
        "id": "O8hXZiZwIdIv",
        "outputId": "28179ef4-2ab9-4fe6-a302-1a5c374268f1"
      },
      "source": [
        "all_img_id= [] #store all the image id here\n",
        "all_img_vector= []#store all the image path here\n",
        "annotations= []#store all the captions here\n",
        "for i in doc:\n",
        "  all_img_id.append(i.split(\",\")[0])\n",
        "  annotations.append(i.split(\",\")[1][:-3])\n",
        "  all_img_vector.append(\"/content/drive/MyDrive/Upgrad/images/\" + i.split(\",\")[0])\n",
        "df = pd.DataFrame(list(zip(all_img_id, all_img_vector,annotations)),columns =['ID','Path', 'Captions']) \n",
        "print(df.shape)\n",
        "df.head(5)"
      ],
      "execution_count": null,
      "outputs": [
        {
          "output_type": "stream",
          "text": [
            "(40455, 3)\n"
          ],
          "name": "stdout"
        },
        {
          "output_type": "execute_result",
          "data": {
            "text/html": [
              "<div>\n",
              "<style scoped>\n",
              "    .dataframe tbody tr th:only-of-type {\n",
              "        vertical-align: middle;\n",
              "    }\n",
              "\n",
              "    .dataframe tbody tr th {\n",
              "        vertical-align: top;\n",
              "    }\n",
              "\n",
              "    .dataframe thead th {\n",
              "        text-align: right;\n",
              "    }\n",
              "</style>\n",
              "<table border=\"1\" class=\"dataframe\">\n",
              "  <thead>\n",
              "    <tr style=\"text-align: right;\">\n",
              "      <th></th>\n",
              "      <th>ID</th>\n",
              "      <th>Path</th>\n",
              "      <th>Captions</th>\n",
              "    </tr>\n",
              "  </thead>\n",
              "  <tbody>\n",
              "    <tr>\n",
              "      <th>0</th>\n",
              "      <td>1000268201_693b08cb0e.jpg</td>\n",
              "      <td>/content/drive/MyDrive/Upgrad/images/100026820...</td>\n",
              "      <td>A child in a pink dress is climbing up a set o...</td>\n",
              "    </tr>\n",
              "    <tr>\n",
              "      <th>1</th>\n",
              "      <td>1000268201_693b08cb0e.jpg</td>\n",
              "      <td>/content/drive/MyDrive/Upgrad/images/100026820...</td>\n",
              "      <td>A girl going into a wooden building</td>\n",
              "    </tr>\n",
              "    <tr>\n",
              "      <th>2</th>\n",
              "      <td>1000268201_693b08cb0e.jpg</td>\n",
              "      <td>/content/drive/MyDrive/Upgrad/images/100026820...</td>\n",
              "      <td>A little girl climbing into a wooden playhouse</td>\n",
              "    </tr>\n",
              "    <tr>\n",
              "      <th>3</th>\n",
              "      <td>1000268201_693b08cb0e.jpg</td>\n",
              "      <td>/content/drive/MyDrive/Upgrad/images/100026820...</td>\n",
              "      <td>A little girl climbing the stairs to her playh...</td>\n",
              "    </tr>\n",
              "    <tr>\n",
              "      <th>4</th>\n",
              "      <td>1000268201_693b08cb0e.jpg</td>\n",
              "      <td>/content/drive/MyDrive/Upgrad/images/100026820...</td>\n",
              "      <td>A little girl in a pink dress going into a woo...</td>\n",
              "    </tr>\n",
              "  </tbody>\n",
              "</table>\n",
              "</div>"
            ],
            "text/plain": [
              "                          ID  ...                                           Captions\n",
              "0  1000268201_693b08cb0e.jpg  ...  A child in a pink dress is climbing up a set o...\n",
              "1  1000268201_693b08cb0e.jpg  ...                A girl going into a wooden building\n",
              "2  1000268201_693b08cb0e.jpg  ...     A little girl climbing into a wooden playhouse\n",
              "3  1000268201_693b08cb0e.jpg  ...  A little girl climbing the stairs to her playh...\n",
              "4  1000268201_693b08cb0e.jpg  ...  A little girl in a pink dress going into a woo...\n",
              "\n",
              "[5 rows x 3 columns]"
            ]
          },
          "metadata": {
            "tags": []
          },
          "execution_count": 8
        }
      ]
    },
    {
      "cell_type": "code",
      "metadata": {
        "colab": {
          "base_uri": "https://localhost:8080/"
        },
        "id": "5sPkZZapIdIw",
        "outputId": "4d14eba0-9b6a-4b50-fd8b-8d4e92384439"
      },
      "source": [
        "#Create a list which contains all the captions\n",
        "\n",
        "#add the <start> & <end> token to all those captions as well\n",
        "df[\"annotations\"] = df[\"Captions\"].apply(lambda x: \"<start> \" + x + \" <end>\")\n",
        "#Create a list which contains all the path to the images\n",
        "annotations= df[\"annotations\"]#write your code here\n",
        "all_img_path= df[\"Path\"]#write your code here\n",
        "\n",
        "print(\"Total captions present in the dataset: \"+ str(len(annotations)))\n",
        "print(\"Total images present in the dataset: \" + str(len(all_img_path)))"
      ],
      "execution_count": null,
      "outputs": [
        {
          "output_type": "stream",
          "text": [
            "Total captions present in the dataset: 40455\n",
            "Total images present in the dataset: 40455\n"
          ],
          "name": "stdout"
        }
      ]
    },
    {
      "cell_type": "code",
      "metadata": {
        "colab": {
          "base_uri": "https://localhost:8080/",
          "height": 534
        },
        "id": "QB8q9lP0IdIt",
        "outputId": "b7514345-5fa2-4e56-bf5e-ae5284be36ad"
      },
      "source": [
        "#Visualise both the images & text present in the dataset\n",
        "n = random.randint(1,len(annotations))\n",
        "print(\"Caption: \",df[\"annotations\"][n])\n",
        "Image.open(df[\"Path\"][n])"
      ],
      "execution_count": null,
      "outputs": [
        {
          "output_type": "stream",
          "text": [
            "Caption:  <start> The young man is sitting on a couch smoking a cigarette <end>\n"
          ],
          "name": "stdout"
        },
        {
          "output_type": "execute_result",
          "data": {
            "image/png": "[encoded data removed]",
            "text/plain": [
              "<PIL.JpegImagePlugin.JpegImageFile image mode=RGB size=334x500 at 0x7FE1AF2F1F10>"
            ]
          },
          "metadata": {
            "tags": []
          },
          "execution_count": 10
        }
      ]
    },
    {
      "cell_type": "code",
      "metadata": {
        "colab": {
          "base_uri": "https://localhost:8080/"
        },
        "id": "SoS7sVLyIdIx",
        "outputId": "ff177e1e-b5ef-410b-e3e8-05e6f9b736c8"
      },
      "source": [
        "#Create the vocabulary & the counter for the captions\n",
        "vocabulary= (\" \".join(df[\"Captions\"])).split(\" \")#write your code here\n",
        "\n",
        "\n",
        "val_count=Counter(vocabulary)\n",
        "val_count"
      ],
      "execution_count": null,
      "outputs": [
        {
          "output_type": "execute_result",
          "data": {
            "text/plain": [
              "Counter({'A': 21480,\n",
              "         'child': 1444,\n",
              "         'in': 18169,\n",
              "         'a': 38770,\n",
              "         'pink': 694,\n",
              "         'dress': 329,\n",
              "         'is': 9069,\n",
              "         'climbing': 482,\n",
              "         'up': 1198,\n",
              "         'set': 99,\n",
              "         'of': 6495,\n",
              "         'stairs': 100,\n",
              "         'an': 1870,\n",
              "         'entry': 1,\n",
              "         'way': 47,\n",
              "         'girl': 3151,\n",
              "         'going': 145,\n",
              "         'into': 1045,\n",
              "         'wooden': 278,\n",
              "         'building': 450,\n",
              "         'little': 1607,\n",
              "         'playhouse': 4,\n",
              "         'the': 14586,\n",
              "         'to': 3006,\n",
              "         'her': 1087,\n",
              "         'cabin': 3,\n",
              "         'black': 3459,\n",
              "         'dog': 7717,\n",
              "         'and': 8056,\n",
              "         'spotted': 36,\n",
              "         'are': 3364,\n",
              "         'fighti': 4,\n",
              "         'tri-colored': 12,\n",
              "         'playing': 1941,\n",
              "         'with': 7302,\n",
              "         'each': 399,\n",
              "         'other': 637,\n",
              "         'on': 10331,\n",
              "         'road': 343,\n",
              "         'white': 3620,\n",
              "         'brown': 2362,\n",
              "         'spots': 27,\n",
              "         'staring': 57,\n",
              "         'at': 2809,\n",
              "         'street': 820,\n",
              "         'Two': 3962,\n",
              "         'dogs': 1983,\n",
              "         'different': 43,\n",
              "         'breeds': 5,\n",
              "         'looking': 677,\n",
              "         'pavement': 43,\n",
              "         'moving': 40,\n",
              "         'toward': 142,\n",
              "         'covered': 285,\n",
              "         'paint': 55,\n",
              "         'sits': 559,\n",
              "         'front': 1322,\n",
              "         'painted': 61,\n",
              "         'rainbow': 17,\n",
              "         'hands': 220,\n",
              "         'bowl': 28,\n",
              "         'sitting': 1318,\n",
              "         'large': 1130,\n",
              "         'small': 1179,\n",
              "         'grass': 1458,\n",
              "         'plays': 514,\n",
              "         'fingerpaints': 2,\n",
              "         'canvas': 5,\n",
              "         'it': 349,\n",
              "         'There': 226,\n",
              "         'pigtails': 14,\n",
              "         'painting': 40,\n",
              "         'Young': 176,\n",
              "         'outside': 734,\n",
              "         'man': 6678,\n",
              "         'lays': 55,\n",
              "         'bench': 341,\n",
              "         'while': 1805,\n",
              "         'his': 2255,\n",
              "         'by': 1160,\n",
              "         'him': 327,\n",
              "         'which': 27,\n",
              "         'also': 13,\n",
              "         'tied': 13,\n",
              "         'sleeping': 58,\n",
              "         'next': 713,\n",
              "         'shirtless': 93,\n",
              "         'lies': 43,\n",
              "         'park': 450,\n",
              "         'laying': 181,\n",
              "         'holding': 1211,\n",
              "         'leash': 120,\n",
              "         'grou': 27,\n",
              "         'orange': 684,\n",
              "         'hat': 602,\n",
              "         'starring': 8,\n",
              "         'something': 319,\n",
              "         'wears': 111,\n",
              "         'glasses': 173,\n",
              "         'gauges': 2,\n",
              "         'wearing': 2916,\n",
              "         'Blitz': 1,\n",
              "         'beer': 39,\n",
              "         'can': 38,\n",
              "         'crocheted': 1,\n",
              "         'The': 2919,\n",
              "         'pierced': 6,\n",
              "         'ears': 64,\n",
              "         'rope': 226,\n",
              "         'net': 52,\n",
              "         'red': 2507,\n",
              "         'roping': 2,\n",
              "         'climbs': 197,\n",
              "         'bridge': 123,\n",
              "         'grips': 2,\n",
              "         'onto': 204,\n",
              "         'ropes': 36,\n",
              "         'playground': 183,\n",
              "         'running': 1975,\n",
              "         'grassy': 438,\n",
              "         'garden': 49,\n",
              "         'surrounded': 155,\n",
              "         'fence': 306,\n",
              "         'through': 1978,\n",
              "         'Boston': 9,\n",
              "         'terrier': 22,\n",
              "         'Terrier': 8,\n",
              "         'lush': 7,\n",
              "         'green': 1140,\n",
              "         'runs': 904,\n",
              "         'near': 960,\n",
              "         '\"A': 1186,\n",
              "         'shakes': 36,\n",
              "         'its': 863,\n",
              "         'head': 348,\n",
              "         'sho': 23,\n",
              "         'edge': 161,\n",
              "         'beach': 903,\n",
              "         'ball': 1599,\n",
              "         '\"Dog': 8,\n",
              "         'fe': 3,\n",
              "         'White': 60,\n",
              "         'shore': 147,\n",
              "         'water': 2500,\n",
              "         'standing': 1697,\n",
              "         'turned': 17,\n",
              "         'one': 558,\n",
              "         'side': 280,\n",
              "         'boy': 3378,\n",
              "         'smiles': 181,\n",
              "         'stony': 3,\n",
              "         'wall': 480,\n",
              "         'city': 298,\n",
              "         'overalls': 22,\n",
              "         'working': 23,\n",
              "         'stone': 123,\n",
              "         'young': 2401,\n",
              "         'aross': 1,\n",
              "         'walking': 1114,\n",
              "         'paved': 39,\n",
              "         'metal': 110,\n",
              "         'pole': 141,\n",
              "         'behind': 545,\n",
              "         'Smiling': 13,\n",
              "         'shirt': 1679,\n",
              "         'blue': 2094,\n",
              "         'jeans': 201,\n",
              "         'rock': 714,\n",
              "         'leaps': 199,\n",
              "         'over': 1377,\n",
              "         'log': 53,\n",
              "         'grey': 224,\n",
              "         'leaping': 127,\n",
              "         'fallen': 67,\n",
              "         'tree': 366,\n",
              "         'mottled': 2,\n",
              "         'collar': 190,\n",
              "         'jumping': 1423,\n",
              "         'jumped': 33,\n",
              "         'stump': 26,\n",
              "         'snow': 1338,\n",
              "         'sn': 95,\n",
              "         'field': 1100,\n",
              "         'surface': 57,\n",
              "         'displaying': 5,\n",
              "         'pictures': 62,\n",
              "         'skier': 172,\n",
              "         'skis': 80,\n",
              "         'past': 144,\n",
              "         'another': 885,\n",
              "         'paintings': 4,\n",
              "         'person': 1388,\n",
              "         'framed': 7,\n",
              "         'looks': 489,\n",
              "         'trees': 237,\n",
              "         'Man': 410,\n",
              "         'artwork': 4,\n",
              "         'for': 901,\n",
              "         'sale': 7,\n",
              "         'collage': 2,\n",
              "         'cliff': 180,\n",
              "         'group': 1160,\n",
              "         'people': 2359,\n",
              "         'bela': 1,\n",
              "         'Seven': 12,\n",
              "         'climbers': 26,\n",
              "         'ascending': 8,\n",
              "         'face': 421,\n",
              "         'whilst': 147,\n",
              "         'stands': 835,\n",
              "         'Several': 188,\n",
              "         'row': 33,\n",
              "         'watches': 241,\n",
              "         'holds': 453,\n",
              "         'line': 140,\n",
              "         'chases': 97,\n",
              "         'from': 866,\n",
              "         'sprinkler': 47,\n",
              "         'lawn': 98,\n",
              "         'hose': 42,\n",
              "         'ho': 6,\n",
              "         'Large': 42,\n",
              "         'away': 152,\n",
              "         'prepares': 48,\n",
              "         'catch': 354,\n",
              "         'thrown': 44,\n",
              "         'object': 141,\n",
              "         'nearby': 139,\n",
              "         'cars': 57,\n",
              "         'about': 141,\n",
              "         'yellow': 1134,\n",
              "         'mouth': 851,\n",
              "         'toy': 531,\n",
              "         'ready': 119,\n",
              "         'flying': 163,\n",
              "         'air': 953,\n",
              "         'after': 176,\n",
              "         'ba': 118,\n",
              "         'get': 100,\n",
              "         'jumps': 952,\n",
              "         'towards': 234,\n",
              "         'trying': 157,\n",
              "         'midair': 183,\n",
              "         'woman': 3126,\n",
              "         'waters': 28,\n",
              "         'big': 240,\n",
              "         'lake': 282,\n",
              "         'lone': 79,\n",
              "         'duck': 33,\n",
              "         'swimming': 430,\n",
              "         'several': 109,\n",
              "         'around': 616,\n",
              "         'watching': 225,\n",
              "         'waves': 130,\n",
              "         'hand': 301,\n",
              "         '\"Two': 403,\n",
              "         'la': 51,\n",
              "         'couple': 234,\n",
              "         'infa': 3,\n",
              "         'sit': 347,\n",
              "         'baby': 388,\n",
              "         'stroller': 22,\n",
              "         'their': 662,\n",
              "         'newborn': 8,\n",
              "         'under': 237,\n",
              "         'facing': 46,\n",
              "         'care': 2,\n",
              "         'infant': 11,\n",
              "         'along': 507,\n",
              "         'body': 183,\n",
              "         'Couple': 8,\n",
              "         'outdoors': 134,\n",
              "         'surf': 67,\n",
              "         'lab': 22,\n",
              "         'tags': 7,\n",
              "         'frolicks': 2,\n",
              "         'splashes': 69,\n",
              "         'wat': 181,\n",
              "         'This': 96,\n",
              "         'splashing': 125,\n",
              "         'drilling': 5,\n",
              "         'hole': 34,\n",
              "         'ice': 212,\n",
              "         'frozen': 25,\n",
              "         'pond': 76,\n",
              "         'men': 984,\n",
              "         'fishing': 99,\n",
              "         'play': 715,\n",
              "         'making': 142,\n",
              "         'turn': 68,\n",
              "         'soft': 13,\n",
              "         'sand': 415,\n",
              "         'together': 385,\n",
              "         'tan': 372,\n",
              "         'sandy': 105,\n",
              "         'uses': 26,\n",
              "         'picks': 12,\n",
              "         'crampons': 1,\n",
              "         'scale': 1,\n",
              "         'climber': 119,\n",
              "         'jacket': 629,\n",
              "         'pants': 228,\n",
              "         'scaling': 20,\n",
              "         'An': 455,\n",
              "         'waterfall': 75,\n",
              "         'two': 1170,\n",
              "         'Climber': 3,\n",
              "         'wa': 80,\n",
              "         'carries': 126,\n",
              "         'as': 840,\n",
              "         'he': 210,\n",
              "         'walks': 531,\n",
              "         'carrying': 396,\n",
              "         'has': 519,\n",
              "         'item': 17,\n",
              "         'wet': 152,\n",
              "         'kayak': 82,\n",
              "         'life': 81,\n",
              "         'jackets': 63,\n",
              "         'rowing': 33,\n",
              "         'canoe': 70,\n",
              "         'gentle': 1,\n",
              "         'ride': 242,\n",
              "         'kay': 4,\n",
              "         'courtyard': 25,\n",
              "         'catching': 106,\n",
              "         'Black': 129,\n",
              "         'snaps': 1,\n",
              "         'lunges': 6,\n",
              "         'Chocolate': 2,\n",
              "         'Lab': 2,\n",
              "         'too': 7,\n",
              "         'late': 3,\n",
              "         'captures': 1,\n",
              "         'driveway': 12,\n",
              "         'stick': 417,\n",
              "         'kneeling': 33,\n",
              "         'goalie': 42,\n",
              "         'n': 7,\n",
              "         'hockey': 177,\n",
              "         'guarding': 9,\n",
              "         'goal': 77,\n",
              "         'kid': 169,\n",
              "         'rink': 26,\n",
              "         'male': 107,\n",
              "         'right': 77,\n",
              "         '\"Hockey': 1,\n",
              "         'crouches': 28,\n",
              "         'go': 57,\n",
              "         'modern': 5,\n",
              "         'art': 38,\n",
              "         'structure': 69,\n",
              "         'glass': 69,\n",
              "         'reads': 44,\n",
              "         'newspaper': 33,\n",
              "         'sculpture': 20,\n",
              "         'office': 11,\n",
              "         'statue': 56,\n",
              "         'backpack': 140,\n",
              "         'buildings': 64,\n",
              "         'reading': 83,\n",
              "         'tent': 78,\n",
              "         'being': 326,\n",
              "         'enter': 8,\n",
              "         'setting': 74,\n",
              "         'hut': 11,\n",
              "         'iced': 3,\n",
              "         'm': 92,\n",
              "         'snowy': 393,\n",
              "         'three': 283,\n",
              "         'Three': 968,\n",
              "         'hill': 393,\n",
              "         'sky': 122,\n",
              "         'th': 14,\n",
              "         'hi': 40,\n",
              "         'stand': 493,\n",
              "         'kneels': 26,\n",
              "         'skyscrap': 1,\n",
              "         'skyscraper': 5,\n",
              "         'very': 158,\n",
              "         'tall': 132,\n",
              "         'Behind': 1,\n",
              "         'distance': 93,\n",
              "         'camera': 599,\n",
              "         'bites': 31,\n",
              "         'hard': 16,\n",
              "         'treat': 14,\n",
              "         'biting': 79,\n",
              "         'baked': 2,\n",
              "         'good': 7,\n",
              "         'putting': 32,\n",
              "         'both': 64,\n",
              "         'eats': 52,\n",
              "         'food': 79,\n",
              "         'table': 232,\n",
              "         'eating': 140,\n",
              "         'pizza': 4,\n",
              "         'tin': 1,\n",
              "         'dish': 10,\n",
              "         'People': 414,\n",
              "         'mountainside': 24,\n",
              "         'check': 6,\n",
              "         'out': 697,\n",
              "         'view': 76,\n",
              "         'hilltop': 2,\n",
              "         'overlooking': 99,\n",
              "         'valley': 20,\n",
              "         'hang': 30,\n",
              "         'top': 455,\n",
              "         'overlook': 6,\n",
              "         'rest': 24,\n",
              "         'ledge': 68,\n",
              "         'above': 211,\n",
              "         'moutains': 1,\n",
              "         'down': 1741,\n",
              "         'many': 83,\n",
              "         'inflatable': 69,\n",
              "         'boats': 34,\n",
              "         'kayakers': 8,\n",
              "         'railing': 104,\n",
              "         'rafts': 6,\n",
              "         'below': 48,\n",
              "         'crowd': 466,\n",
              "         'jersey': 100,\n",
              "         'pose': 205,\n",
              "         'some': 503,\n",
              "         'multiracial': 1,\n",
              "         'posing': 278,\n",
              "         'pictu': 32,\n",
              "         '\"Asian': 4,\n",
              "         'blond': 164,\n",
              "         'outdoo': 21,\n",
              "         'Guy': 15,\n",
              "         'striped': 202,\n",
              "         'guy': 192,\n",
              "         'watch': 228,\n",
              "         'takeout': 1,\n",
              "         'television': 9,\n",
              "         'floor': 133,\n",
              "         'picture': 373,\n",
              "         'fast': 50,\n",
              "         'meal': 12,\n",
              "         'Someone': 86,\n",
              "         'TV': 5,\n",
              "         'bea': 121,\n",
              "         'teens': 5,\n",
              "         'Crowd': 11,\n",
              "         'rail': 98,\n",
              "         'crowded': 74,\n",
              "         'takes': 165,\n",
              "         'jump': 381,\n",
              "         'skateboard': 402,\n",
              "         'performing': 194,\n",
              "         'trick': 372,\n",
              "         'leans': 57,\n",
              "         'skateboarder': 287,\n",
              "         'doing': 417,\n",
              "         'board': 122,\n",
              "         'platform': 47,\n",
              "         'skateboarders': 7,\n",
              "         'paddling': 47,\n",
              "         'riv': 17,\n",
              "         'kayaking': 28,\n",
              "         'river': 212,\n",
              "         'paddles': 33,\n",
              "         'boat': 254,\n",
              "         'paddle': 39,\n",
              "         'shallow': 127,\n",
              "         'girls': 785,\n",
              "         'ocean': 410,\n",
              "         'four': 127,\n",
              "         'children': 968,\n",
              "         'pajamas': 17,\n",
              "         'have': 73,\n",
              "         'pillow': 15,\n",
              "         'fight': 76,\n",
              "         'kids': 286,\n",
              "         'pillow-fight': 1,\n",
              "         'bed': 140,\n",
              "         'Children': 143,\n",
              "         'having': 46,\n",
              "         'Four': 332,\n",
              "         'constructions': 1,\n",
              "         'workers': 17,\n",
              "         'beam': 18,\n",
              "         'taking': 194,\n",
              "         'break': 30,\n",
              "         'construction': 30,\n",
              "         'I-beam': 1,\n",
              "         'take': 77,\n",
              "         'seat': 44,\n",
              "         'steel': 4,\n",
              "         'bo': 34,\n",
              "         'boys': 605,\n",
              "         'puddle': 87,\n",
              "         'balloon': 41,\n",
              "         'mud': 105,\n",
              "         'sunny': 60,\n",
              "         'day': 121,\n",
              "         'appears': 31,\n",
              "         'wait': 43,\n",
              "         'hailing': 1,\n",
              "         'taxi': 4,\n",
              "         'signaling': 1,\n",
              "         'traff': 5,\n",
              "         'blonde': 181,\n",
              "         'hair': 370,\n",
              "         'tube': 52,\n",
              "         'waving': 47,\n",
              "         'arm': 136,\n",
              "         'oncoming': 1,\n",
              "         'traffic': 41,\n",
              "         'brochure': 1,\n",
              "         'train': 89,\n",
              "         'rid': 4,\n",
              "         'magizine': 1,\n",
              "         'han': 9,\n",
              "         'book': 67,\n",
              "         'rides': 450,\n",
              "         'pamphlet': 1,\n",
              "         'Child': 58,\n",
              "         'brochu': 1,\n",
              "         'rocky': 228,\n",
              "         'run': 345,\n",
              "         'across': 465,\n",
              "         'stones': 7,\n",
              "         'area': 332,\n",
              "         'background': 355,\n",
              "         'descends': 11,\n",
              "         'off': 713,\n",
              "         'end': 47,\n",
              "         'high': 271,\n",
              "         'diving': 72,\n",
              "         'pool': 625,\n",
              "         'dive': 11,\n",
              "         'window': 120,\n",
              "         'overshirt': 1,\n",
              "         'tank': 73,\n",
              "         'chrome': 1,\n",
              "         'door': 50,\n",
              "         'puts': 34,\n",
              "         'elevator': 6,\n",
              "         'light-colored': 4,\n",
              "         'Light': 4,\n",
              "         'swim': 92,\n",
              "         'shorts': 342,\n",
              "         'trunks': 94,\n",
              "         'arms': 218,\n",
              "         'outstretched': 35,\n",
              "         'hiker': 75,\n",
              "         'bluff': 5,\n",
              "         'mountains': 183,\n",
              "         'ski': 94,\n",
              "         \"'s\": 379,\n",
              "         'landsca': 5,\n",
              "         'snow-covered': 47,\n",
              "         'mountain': 501,\n",
              "         'beautiful': 47,\n",
              "         'landscape': 34,\n",
              "         'pauses': 10,\n",
              "         'mountaintop': 25,\n",
              "         'attempting': 56,\n",
              "         'purple': 296,\n",
              "         'low': 59,\n",
              "         'cut': 26,\n",
              "         'yard': 178,\n",
              "         'Frisbee': 302,\n",
              "         'parking': 66,\n",
              "         'lot': 96,\n",
              "         'middle': 150,\n",
              "         'during': 166,\n",
              "         'heavy': 24,\n",
              "         'mat': 27,\n",
              "         'between': 119,\n",
              "         'SUV': 13,\n",
              "         'pickup': 4,\n",
              "         'open': 159,\n",
              "         'busy': 95,\n",
              "         'terrain': 24,\n",
              "         'woolly': 1,\n",
              "         'Doberman': 6,\n",
              "         'One': 193,\n",
              "         'chasing': 181,\n",
              "         'catches': 123,\n",
              "         'tennis': 398,\n",
              "         '': 157,\n",
              "         'multicolor': 11,\n",
              "         'balloons': 24,\n",
              "         'night': 146,\n",
              "         'hot': 24,\n",
              "         'lit': 41,\n",
              "         'lined': 35,\n",
              "         'nighttime': 12,\n",
              "         'helmet': 321,\n",
              "         'bike': 795,\n",
              "         'miniature': 5,\n",
              "         'dirt': 563,\n",
              "         'bicycle': 391,\n",
              "         'race': 346,\n",
              "         'pedals': 3,\n",
              "         'quickly': 29,\n",
              "         'BMX': 37,\n",
              "         'eight': 7,\n",
              "         'gathered': 65,\n",
              "         'dark': 225,\n",
              "         'porch': 21,\n",
              "         'darkened': 10,\n",
              "         'room': 115,\n",
              "         'throwing': 96,\n",
              "         'cleans': 2,\n",
              "         'bubbles': 85,\n",
              "         'suds': 4,\n",
              "         'wiped': 2,\n",
              "         'clean': 6,\n",
              "         'foam': 18,\n",
              "         'ramp': 282,\n",
              "         'soapy': 1,\n",
              "         'getting': 119,\n",
              "         'cleaned': 1,\n",
              "         'slides': 88,\n",
              "         'slide': 264,\n",
              "         'wading': 52,\n",
              "         'toys': 47,\n",
              "         'floating': 37,\n",
              "         'backyard': 58,\n",
              "         'sliding': 117,\n",
              "         'colorful': 207,\n",
              "         'tubes': 1,\n",
              "         'falling': 73,\n",
              "         'colored': 159,\n",
              "         'wetsuit': 80,\n",
              "         'toddler': 161,\n",
              "         'waiting': 111,\n",
              "         'come': 11,\n",
              "         'so': 16,\n",
              "         '\"While': 11,\n",
              "         'droplets': 6,\n",
              "         'f': 2,\n",
              "         'sticks': 57,\n",
              "         'tongue': 96,\n",
              "         '.': 13,\n",
              "         'Another': 2,\n",
              "         'make': 55,\n",
              "         'faces': 63,\n",
              "         'came': 58,\n",
              "         'look': 247,\n",
              "         'silly': 15,\n",
              "         'horse': 216,\n",
              "         'sweatshirt': 74,\n",
              "         'fire': 103,\n",
              "         'barrel': 22,\n",
              "         'lead': 16,\n",
              "         'horses': 82,\n",
              "         'bulld': 2,\n",
              "         'pushing': 58,\n",
              "         'anouther': 1,\n",
              "         'skinny': 18,\n",
              "         'smaller': 61,\n",
              "         'int': 6,\n",
              "         'them': 203,\n",
              "         'various': 15,\n",
              "         'sizes': 4,\n",
              "         'lady': 203,\n",
              "         'no': 82,\n",
              "         'dock': 89,\n",
              "         'deck': 34,\n",
              "         'closeup': 50,\n",
              "         'that': 385,\n",
              "         'paws': 30,\n",
              "         'lying': 95,\n",
              "         'ground': 305,\n",
              "         'resting': 42,\n",
              "         'tiled': 9,\n",
              "         'eyes': 84,\n",
              "         'rests': 23,\n",
              "         'patio': 20,\n",
              "         'bricks': 4,\n",
              "         'artificial': 9,\n",
              "         'safety': 31,\n",
              "         'harness': 78,\n",
              "         'indoor': 43,\n",
              "         '\"The': 169,\n",
              "         'harne': 2,\n",
              "         'Woman': 158,\n",
              "         'ring': 56,\n",
              "         'h': 77,\n",
              "         'jumphou': 1,\n",
              "         'teenage': 72,\n",
              "         'seating': 6,\n",
              "         'inflated': 5,\n",
              "         'family': 77,\n",
              "         'tractor': 9,\n",
              "         'd': 102,\n",
              "         'Polaris': 3,\n",
              "         'vehicle': 70,\n",
              "         'played': 18,\n",
              "         'wheeler': 12,\n",
              "         'riding': 881,\n",
              "         'ATV': 38,\n",
              "         'costume': 117,\n",
              "         'left': 72,\n",
              "         'sequined': 4,\n",
              "         'feather': 10,\n",
              "         'sidewalk': 328,\n",
              "         'salmon': 2,\n",
              "         'bikini': 62,\n",
              "         ';': 31,\n",
              "         'outfit': 150,\n",
              "         'drinking': 89,\n",
              "         'pop': 7,\n",
              "         'approached': 2,\n",
              "         'flamboyant': 3,\n",
              "         'dressed': 537,\n",
              "         'feathered': 7,\n",
              "         'headress': 1,\n",
              "         'Skiiers': 9,\n",
              "         'forest': 139,\n",
              "         'skiing': 106,\n",
              "         'wooded': 91,\n",
              "         'cross-country': 18,\n",
              "         'skiers': 29,\n",
              "         'woodland': 21,\n",
              "         'trail': 136,\n",
              "         'woods': 196,\n",
              "         'hikers': 32,\n",
              "         'pathw': 2,\n",
              "         'light': 143,\n",
              "         'path': 299,\n",
              "         'happily': 26,\n",
              "         'Energetic': 1,\n",
              "         'runni': 20,\n",
              "         'mother': 36,\n",
              "         'boardwalk': 19,\n",
              "         'sea': 26,\n",
              "         'Some': 76,\n",
              "         'pier': 32,\n",
              "         'evening': 8,\n",
              "         'pony': 11,\n",
              "         'wintertime': 2,\n",
              "         'atop': 35,\n",
              "         'draft': 3,\n",
              "         'daft': 1,\n",
              "         'pull': 32,\n",
              "         'cart': 76,\n",
              "         'golden': 96,\n",
              "         'sleigh': 2,\n",
              "         'driven': 10,\n",
              "         'coat': 243,\n",
              "         'pulling': 108,\n",
              "         'carriage': 18,\n",
              "         'sled': 106,\n",
              "         'steered': 2,\n",
              "         'smiling': 403,\n",
              "         'sheer': 16,\n",
              "         'using': 58,\n",
              "         'ro': 73,\n",
              "         'ta': 9,\n",
              "         'rappels': 2,\n",
              "         'steep': 55,\n",
              "         'incline': 11,\n",
              "         'vest': 87,\n",
              "         'inside': 164,\n",
              "         'dome': 3,\n",
              "         'Shaft': 1,\n",
              "         'cave': 19,\n",
              "         'shows': 29,\n",
              "         'spelunke': 1,\n",
              "         'Spelunkers': 1,\n",
              "         'cavern': 1,\n",
              "         'bathed': 1,\n",
              "         'sunlight': 11,\n",
              "         'rocks': 237,\n",
              "         'backpackers': 2,\n",
              "         'lay': 19,\n",
              "         'dry': 75,\n",
              "         'camp': 7,\n",
              "         'gear': 108,\n",
              "         'chalk': 13,\n",
              "         'portrait': 6,\n",
              "         'stream': 100,\n",
              "         'drawi': 1,\n",
              "         'drawing': 12,\n",
              "         'barn-like': 1,\n",
              "         'elaborate': 11,\n",
              "         'illustration': 1,\n",
              "         'deep': 79,\n",
              "         'pile': 74,\n",
              "         'fountain': 156,\n",
              "         'fountains': 11,\n",
              "         'sprayed': 24,\n",
              "         'Corgi': 1,\n",
              "         'tunnel': 60,\n",
              "         'course': 117,\n",
              "         'Dog': 144,\n",
              "         'obstacle': 118,\n",
              "         'cour': 14,\n",
              "         'obedience': 3,\n",
              "         'arou': 6,\n",
              "         'swimsuit': 58,\n",
              "         'Little': 129,\n",
              "         'handrail': 29,\n",
              "         'bathing': 117,\n",
              "         'suit': 231,\n",
              "         'spray': 33,\n",
              "         'soaked': 12,\n",
              "         'jet': 21,\n",
              "         'sticking': 49,\n",
              "         'shower': 18,\n",
              "         'gets': 106,\n",
              "         'underwater': 50,\n",
              "         'red-headed': 4,\n",
              "         'underwat': 2,\n",
              "         'swims': 100,\n",
              "         'gun': 35,\n",
              "         'foot': 38,\n",
              "         'aims': 5,\n",
              "         'fireplace': 9,\n",
              "         'new': 7,\n",
              "         'light-up': 1,\n",
              "         'Boy': 119,\n",
              "         'pointed': 12,\n",
              "         'alone': 34,\n",
              "         'jagged': 7,\n",
              "         'snowmobile': 12,\n",
              "         'mid': 8,\n",
              "         'snowmobiler': 1,\n",
              "         'flies': 100,\n",
              "         'rider': 177,\n",
              "         'or': 82,\n",
              "         'machine': 28,\n",
              "         'pine': 22,\n",
              "         'Rider': 2,\n",
              "         'rural': 41,\n",
              "         'snowmobiles': 4,\n",
              "         'helmets': 31,\n",
              "         'goggles': 62,\n",
              "         'snowmobiling': 2,\n",
              "         'helmeted': 14,\n",
              "         'drive': 16,\n",
              "         'ATVs': 3,\n",
              "         'heads': 47,\n",
              "         'wheel': 56,\n",
              "         'wheelers': 3,\n",
              "         'empty': 47,\n",
              "         'all': 124,\n",
              "         'vehic': 6,\n",
              "         'gin': 1,\n",
              "         'four-wheeler': 5,\n",
              "         'airborne': 68,\n",
              "         'quad': 5,\n",
              "         'harvested': 2,\n",
              "         'cornfield': 1,\n",
              "         's': 21,\n",
              "         'happy': 18,\n",
              "         'OD': 1,\n",
              "         'playfully': 31,\n",
              "         'soccer': 544,\n",
              "         'tucked': 1,\n",
              "         't-shirt': 132,\n",
              "         'Small': 64,\n",
              "         'artist': 13,\n",
              "         'paints': 12,\n",
              "         'clouds': 24,\n",
              "         'braids': 6,\n",
              "         'colors': 21,\n",
              "         'paper': 69,\n",
              "         'cyclist': 64,\n",
              "         'curved': 4,\n",
              "         'aerodynamic': 2,\n",
              "         'sharp': 20,\n",
              "         'curve': 23,\n",
              "         'pedaling': 3,\n",
              "         '\"Man': 26,\n",
              "         'biker': 160,\n",
              "         't': 33,\n",
              "         'fetch': 31,\n",
              "         'pounces': 7,\n",
              "         'cine': 1,\n",
              "         'old': 157,\n",
              "         'fashioned': 6,\n",
              "         'video': 39,\n",
              "         'steadies': 2,\n",
              "         'aim': 4,\n",
              "         'Girl': 103,\n",
              "         'rosy': 1,\n",
              "         'cheeks': 6,\n",
              "         'lips': 17,\n",
              "         'Border': 2,\n",
              "         'Collie': 7,\n",
              "         'audience': 34,\n",
              "         'dug': 3,\n",
              "         'Frisb': 21,\n",
              "         'agile': 1,\n",
              "         'onlookers': 41,\n",
              "         'closely': 5,\n",
              "         'smooth': 5,\n",
              "         'stacking': 1,\n",
              "         'roc': 15,\n",
              "         'Toddler': 3,\n",
              "         'against': 193,\n",
              "         'backdrop': 9,\n",
              "         'vall': 1,\n",
              "         'rappeling': 1,\n",
              "         'headlamp': 2,\n",
              "         'attached': 51,\n",
              "         'snakeskin': 1,\n",
              "         'Person': 122,\n",
              "         'sprays': 11,\n",
              "         'frog': 2,\n",
              "         'public': 45,\n",
              "         'wood': 66,\n",
              "         'barrior': 1,\n",
              "         'animal': 87,\n",
              "         'bird': 180,\n",
              "         'seeds': 5,\n",
              "         'someone': 68,\n",
              "         'ha': 35,\n",
              "         'sunflower': 1,\n",
              "         'see': 21,\n",
              "         'clinging': 5,\n",
              "         'finger': 30,\n",
              "         'wades': 12,\n",
              "         'guided': 3,\n",
              "         'laughs': 32,\n",
              "         'oce': 35,\n",
              "         'playful': 7,\n",
              "         'this': 22,\n",
              "         'beige': 49,\n",
              "         'fie': 120,\n",
              "         'bla': 32,\n",
              "         'bro': 21,\n",
              "         'torwards': 1,\n",
              "         'po': 83,\n",
              "         'outdoor': 127,\n",
              "         'handstand': 48,\n",
              "         'does': 226,\n",
              "         'sheets': 5,\n",
              "         'upside': 89,\n",
              "         'b': 78,\n",
              "         'snowboard': 87,\n",
              "         'surfboard': 137,\n",
              "         'bikes': 82,\n",
              "         'traveling': 16,\n",
              "         'worn': 5,\n",
              "         'motorcycles': 25,\n",
              "         'motorbikes': 7,\n",
              "         'follow': 14,\n",
              "         'dirt-bikes': 1,\n",
              "         'off-road': 9,\n",
              "         'garment': 1,\n",
              "         'flag': 85,\n",
              "         'crescent': 1,\n",
              "         'moon': 3,\n",
              "         'star': 10,\n",
              "         'gown': 9,\n",
              "         'Muslim': 3,\n",
              "         'helps': 28,\n",
              "         'wave': 289,\n",
              "         'Baby': 14,\n",
              "         'half': 28,\n",
              "         'naked': 42,\n",
              "         'chair': 116,\n",
              "         'older': 191,\n",
              "         'back': 348,\n",
              "         'relaxes': 12,\n",
              "         'adobe': 1,\n",
              "         'where': 31,\n",
              "         'bicycles': 50,\n",
              "         'propped': 4,\n",
              "         'cap': 162,\n",
              "         'cha': 12,\n",
              "         'relaxing': 15,\n",
              "         'folding': 10,\n",
              "         '\"Topless': 2,\n",
              "         'slippe': 1,\n",
              "         'hauling': 1,\n",
              "         'Both': 2,\n",
              "         'retrieve': 9,\n",
              "         'mouths': 34,\n",
              "         'tug': 29,\n",
              "         'chew': 16,\n",
              "         '\"There': 43,\n",
              "         'peop': 38,\n",
              "         'party': 50,\n",
              "         'streets': 25,\n",
              "         'drink': 99,\n",
              "         'they': 113,\n",
              "         'women': 573,\n",
              "         'posi': 3,\n",
              "         'parade': 53,\n",
              "         'neck-deep': 1,\n",
              "         '\"Brown': 13,\n",
              "         'mou': 62,\n",
              "         'creating': 8,\n",
              "         'splash': 43,\n",
              "         'seaweed': 10,\n",
              "         'lav': 1,\n",
              "         'sa': 36,\n",
              "         'sandals': 16,\n",
              "         'pinstripe': 2,\n",
              "         ...})"
            ]
          },
          "metadata": {
            "tags": []
          },
          "execution_count": 11
        }
      ]
    },
    {
      "cell_type": "code",
      "metadata": {
        "colab": {
          "base_uri": "https://localhost:8080/"
        },
        "id": "xmgUAf1-IdIx",
        "outputId": "61bd0c07-48d0-4b9a-bc95-2477ca24003e"
      },
      "source": [
        "#Visualise the top 30 occuring words in the captions\n",
        "\n",
        "val_count.most_common(30)\n",
        "#write your code here"
      ],
      "execution_count": null,
      "outputs": [
        {
          "output_type": "execute_result",
          "data": {
            "text/plain": [
              "[('a', 38770),\n",
              " ('A', 21480),\n",
              " ('in', 18169),\n",
              " ('the', 14586),\n",
              " ('on', 10331),\n",
              " ('is', 9069),\n",
              " ('and', 8056),\n",
              " ('dog', 7717),\n",
              " ('with', 7302),\n",
              " ('man', 6678),\n",
              " ('of', 6495),\n",
              " ('Two', 3962),\n",
              " ('white', 3620),\n",
              " ('black', 3459),\n",
              " ('boy', 3378),\n",
              " ('are', 3364),\n",
              " ('girl', 3151),\n",
              " ('woman', 3126),\n",
              " ('to', 3006),\n",
              " ('The', 2919),\n",
              " ('wearing', 2916),\n",
              " ('at', 2809),\n",
              " ('red', 2507),\n",
              " ('water', 2500),\n",
              " ('young', 2401),\n",
              " ('brown', 2362),\n",
              " ('people', 2359),\n",
              " ('his', 2255),\n",
              " ('blue', 2094),\n",
              " ('dogs', 1983)]"
            ]
          },
          "metadata": {
            "tags": []
          },
          "execution_count": 12
        }
      ]
    },
    {
      "cell_type": "markdown",
      "metadata": {
        "id": "f1iN13JnIdIy"
      },
      "source": [
        "## Pre-Processing the captions\n",
        "1.Create the tokenized vectors by tokenizing the captions fore ex :split them using spaces & other filters. \n",
        "This gives us a vocabulary of all of the unique words in the data. Keep the total vocaublary to top 5,000 words for saving memory.\n",
        "\n",
        "2.Replace all other words with the unknown token \"UNK\" .\n",
        "\n",
        "3.Create word-to-index and index-to-word mappings.\n",
        "\n",
        "4.Pad all sequences to be the same length as the longest one."
      ]
    },
    {
      "cell_type": "code",
      "metadata": {
        "id": "1q4Q49yyIdIz"
      },
      "source": [
        "# create the tokenizer\n",
        "#your code here\n",
        "\n",
        "top_k = 5000\n",
        "tokenizer = tf.keras.preprocessing.text.Tokenizer(num_words=top_k,\n",
        "                                                  oov_token=\"<unk>\",\n",
        "                                                  filters='!\"#$%&()*+.,-/:;=?@[\\]^_`{|}~ ')\n",
        "tokenizer.fit_on_texts(annotations)"
      ],
      "execution_count": null,
      "outputs": []
    },
    {
      "cell_type": "code",
      "metadata": {
        "id": "_MB7Kmk7IdI0"
      },
      "source": [
        "# Create word-to-index and index-to-word mappings.\n",
        "\n",
        "#your code here\n",
        "tokenizer.word_index['<pad>'] = 0\n",
        "tokenizer.index_word[0] = '<pad>'"
      ],
      "execution_count": null,
      "outputs": []
    },
    {
      "cell_type": "code",
      "metadata": {
        "id": "BBEiK_a_IdI1"
      },
      "source": [
        "# Create a word count of your tokenizer to visulize the Top 30 occuring words after text processing\n",
        "\n",
        "#your code here\n",
        "text_seqs = tokenizer.texts_to_sequences(annotations)"
      ],
      "execution_count": null,
      "outputs": []
    },
    {
      "cell_type": "code",
      "metadata": {
        "id": "cdaAKESwR0O9"
      },
      "source": [
        "# Find the maximum length of any caption in our dataset\n",
        "def calc_max_length(tensor):\n",
        "    return max(len(t) for t in tensor)"
      ],
      "execution_count": null,
      "outputs": []
    },
    {
      "cell_type": "code",
      "metadata": {
        "id": "Km0n--wESQAM"
      },
      "source": [
        "# Calculates the max_length, which is used to store the attention weights\n",
        "max_length = calc_max_length(text_seqs)"
      ],
      "execution_count": null,
      "outputs": []
    },
    {
      "cell_type": "code",
      "metadata": {
        "colab": {
          "base_uri": "https://localhost:8080/"
        },
        "id": "Irz9TJUhIdI1",
        "outputId": "840486d6-7eab-42db-a7bd-de3919537947"
      },
      "source": [
        "# Pad each vector to the max_length of the captions ^ store it to a vairable\n",
        "\n",
        "cap_vector= tf.keras.preprocessing.sequence.pad_sequences(text_seqs, padding='post')#your code here\n",
        "\n",
        "print(\"The shape of Caption vector is :\" + str(cap_vector.shape))"
      ],
      "execution_count": null,
      "outputs": [
        {
          "output_type": "stream",
          "text": [
            "The shape of Caption vector is :(40455, 35)\n"
          ],
          "name": "stdout"
        }
      ]
    },
    {
      "cell_type": "markdown",
      "metadata": {
        "id": "A8nMVbhBIdI2"
      },
      "source": [
        "## Pre-processing the images\n",
        "\n",
        "1.Resize them into the shape of (299, 299)\n",
        "\n",
        "3.Normalize the image within the range of -1 to 1, such that it is in correct format for InceptionV3. "
      ]
    },
    {
      "cell_type": "markdown",
      "metadata": {
        "id": "mKQImJvdIdI2"
      },
      "source": [
        "### FAQs on how to resize the images::\n",
        "* Since you have a list which contains all the image path, you need to first convert them to a dataset using <i>tf.data.Dataset.from_tensor_slices</i>. Once you have created a dataset consisting of image paths, you need to apply a function to the dataset which will apply the necessary preprocessing to each image. \n",
        "* This function should resize them and also should do the necessary preprocessing that it is in correct format for InceptionV3.\n"
      ]
    },
    {
      "cell_type": "code",
      "metadata": {
        "id": "FS_z28AEIdI3"
      },
      "source": [
        "#write your code here to create the dataset consisting of image paths\n",
        "\n",
        "#Image paths are already present in variable all_img_path"
      ],
      "execution_count": null,
      "outputs": []
    },
    {
      "cell_type": "code",
      "metadata": {
        "id": "7FnIhAZVIdI3"
      },
      "source": [
        "#write your code here for creating the function. This function should return images & their path\n",
        "\n",
        "def load_image(image_path):\n",
        "    #write your pre-processing steps here\n",
        "    img = tf.io.read_file(image_path)\n",
        "    img = tf.image.decode_jpeg(img, channels=3)\n",
        "    img = tf.image.resize(img, (299, 299))\n",
        "    img = tf.keras.applications.inception_v3.preprocess_input(img)\n",
        "    return img, image_path\n",
        "  "
      ],
      "execution_count": null,
      "outputs": []
    },
    {
      "cell_type": "code",
      "metadata": {
        "id": "EK1nrI3SIdI4"
      },
      "source": [
        "#write your code here for applying the function to the image path dataset, such that the transformed dataset should contain images & their path\n",
        "\n",
        "# Get unique images from the list of all image paths\n",
        "unique_img_names = sorted(set(all_img_path))\n",
        "\n",
        "image_dataset = tf.data.Dataset.from_tensor_slices(unique_img_names)\n",
        "image_dataset = image_dataset.map(\n",
        "  load_image, num_parallel_calls=tf.data.AUTOTUNE).batch(16)\n"
      ],
      "execution_count": null,
      "outputs": []
    },
    {
      "cell_type": "markdown",
      "metadata": {
        "id": "--IPx-AvIdI4"
      },
      "source": [
        "## Load the pretrained Imagenet weights of Inception net V3\n",
        "\n",
        "1.To save the memory(RAM) from getting exhausted, extract the features of the images using the last layer of pre-trained model. Including this as part of training will lead to higher computational time.\n",
        "\n",
        "2.The shape of the output of this layer is 8x8x2048. \n",
        "\n",
        "3.Use a function to extract the features of each image in the train & test dataset such that the shape of each image should be (batch_size, 8*8, 2048)\n",
        "\n"
      ]
    },
    {
      "cell_type": "code",
      "metadata": {
        "colab": {
          "base_uri": "https://localhost:8080/"
        },
        "id": "QUSfB0QkIdI5",
        "outputId": "72add2da-e006-4d53-f6f0-1a1d486e47fc"
      },
      "source": [
        "image_model = tf.keras.applications.InceptionV3(include_top=False,weights='imagenet')\n",
        "\n",
        "new_input = image_model.input #write code here to get the input of the image_model\n",
        "hidden_layer = image_model.layers[-1].output#write code here to get the output of the image_model\n",
        "\n",
        "image_features_extract_model = tf.keras.Model(new_input, hidden_layer) #build the final model using both input & output layer"
      ],
      "execution_count": null,
      "outputs": [
        {
          "output_type": "stream",
          "text": [
            "Downloading data from https://storage.googleapis.com/tensorflow/keras-applications/inception_v3/inception_v3_weights_tf_dim_ordering_tf_kernels_notop.h5\n",
            "87916544/87910968 [==============================] - 1s 0us/step\n"
          ],
          "name": "stdout"
        }
      ]
    },
    {
      "cell_type": "code",
      "metadata": {
        "colab": {
          "base_uri": "https://localhost:8080/",
          "height": 249
        },
        "id": "eQfTRGyvIdI6",
        "outputId": "7952d160-48f4-44b9-b576-4feec311d3d0"
      },
      "source": [
        "# write the code to apply the feature_extraction model to your earlier created dataset which contained images & their respective paths\n",
        "# Once the features are created, you need to reshape them such that feature shape is in order of (batch_size, 8*8, 2048)\n",
        "for img, path in tqdm(image_dataset):\n",
        "  batch_features = image_features_extract_model(img)\n",
        "  batch_features = tf.reshape(batch_features,\n",
        "                              (batch_features.shape[0], -1, batch_features.shape[3]))\n",
        "\n",
        "  for bf, p in zip(batch_features, path):\n",
        "    path_of_feature = p.numpy().decode(\"utf-8\")\n",
        "    np.save(path_of_feature, bf.numpy())"
      ],
      "execution_count": null,
      "outputs": [
        {
          "output_type": "error",
          "ename": "NameError",
          "evalue": "ignored",
          "traceback": [
            "\u001b[0;31m---------------------------------------------------------------------------\u001b[0m",
            "\u001b[0;31mNameError\u001b[0m                                 Traceback (most recent call last)",
            "\u001b[0;32m<ipython-input-1-8deb8970b49b>\u001b[0m in \u001b[0;36m<module>\u001b[0;34m()\u001b[0m\n\u001b[1;32m      1\u001b[0m \u001b[0;31m# write the code to apply the feature_extraction model to your earlier created dataset which contained images & their respective paths\u001b[0m\u001b[0;34m\u001b[0m\u001b[0;34m\u001b[0m\u001b[0;34m\u001b[0m\u001b[0m\n\u001b[1;32m      2\u001b[0m \u001b[0;31m# Once the features are created, you need to reshape them such that feature shape is in order of (batch_size, 8*8, 2048)\u001b[0m\u001b[0;34m\u001b[0m\u001b[0;34m\u001b[0m\u001b[0;34m\u001b[0m\u001b[0m\n\u001b[0;32m----> 3\u001b[0;31m \u001b[0;32mfor\u001b[0m \u001b[0mimg\u001b[0m\u001b[0;34m,\u001b[0m \u001b[0mpath\u001b[0m \u001b[0;32min\u001b[0m \u001b[0mtqdm\u001b[0m\u001b[0;34m(\u001b[0m\u001b[0mimage_dataset\u001b[0m\u001b[0;34m)\u001b[0m\u001b[0;34m:\u001b[0m\u001b[0;34m\u001b[0m\u001b[0;34m\u001b[0m\u001b[0m\n\u001b[0m\u001b[1;32m      4\u001b[0m   \u001b[0mbatch_features\u001b[0m \u001b[0;34m=\u001b[0m \u001b[0mimage_features_extract_model\u001b[0m\u001b[0;34m(\u001b[0m\u001b[0mimg\u001b[0m\u001b[0;34m)\u001b[0m\u001b[0;34m\u001b[0m\u001b[0;34m\u001b[0m\u001b[0m\n\u001b[1;32m      5\u001b[0m   batch_features = tf.reshape(batch_features,\n",
            "\u001b[0;31mNameError\u001b[0m: name 'tqdm' is not defined"
          ]
        }
      ]
    },
    {
      "cell_type": "markdown",
      "metadata": {
        "id": "NTkyx3GAIdI7"
      },
      "source": [
        "### FAQs on how to store the features:\n",
        "* You can store the features using a dictionary with the path as the key and values as the feature extracted by the inception net v3 model OR\n",
        "* You can store using numpy(np.save) to store the resulting vector."
      ]
    },
    {
      "cell_type": "markdown",
      "metadata": {
        "id": "ETSthLcPIdI7"
      },
      "source": [
        "## Dataset creation\n",
        "1.Apply train_test_split on both image path & captions to create the train & test list. Create the train-test spliit using 80-20 ratio & random state = 42\n",
        "\n",
        "2.Create a function which maps the image path to their feature. \n",
        "\n",
        "3.Create a builder function to create train & test dataset & apply the function created earlier to transform the dataset\n",
        "\n",
        "2.Make sure you have done Shuffle and batch while building the dataset\n",
        "\n",
        "3.The shape of each image in the dataset after building should be (batch_size, 8*8, 2048)\n",
        "\n",
        "4.The shape of each caption in the dataset after building should be(batch_size, max_len)\n"
      ]
    },
    {
      "cell_type": "code",
      "metadata": {
        "id": "ow2_8HGhIdI8"
      },
      "source": [
        "#write your code here\n",
        "img_to_cap_vector = collections.defaultdict(list)\n",
        "for img, cap in zip(all_img_path, cap_vector):\n",
        "    img_to_cap_vector[img].append(cap)\n",
        "\n",
        "# Create training and validation sets using an 80-20 split randomly.\n",
        "#As we need mapping for image and its respective captions - if we use a train_test_split which shuffles the data and mapping will be lost.\n",
        "#If we keep Shuffle = False - then we will end up with training the data in a sequence\n",
        "#To solve above two problems - we are manually doing the train test split\n",
        "img_keys = list(img_to_cap_vector.keys())\n",
        "random.shuffle(img_keys)\n",
        "\n",
        "slice_index = int(len(img_keys)*0.8)\n",
        "img_name_train_keys, img_name_val_keys = img_keys[:slice_index], img_keys[slice_index:]\n",
        "\n",
        "path_train = []\n",
        "cap_train = []\n",
        "for imgt in img_name_train_keys:\n",
        "    capt_len = len(img_to_cap_vector[imgt])\n",
        "    path_train.extend([imgt] * capt_len)\n",
        "    cap_train.extend(img_to_cap_vector[imgt])\n",
        "\n",
        "path_test = []\n",
        "cap_test = []\n",
        "for imgv in img_name_val_keys:\n",
        "    capv_len = len(img_to_cap_vector[imgv])\n",
        "    path_test.extend([imgv] * capv_len)\n",
        "    cap_test.extend(img_to_cap_vector[imgv])\n",
        "\n",
        "#path_train, path_test, cap_train, cap_test = train_test_split( #your code goes here)"
      ],
      "execution_count": null,
      "outputs": []
    },
    {
      "cell_type": "code",
      "metadata": {
        "colab": {
          "base_uri": "https://localhost:8080/"
        },
        "id": "3Rdg1csjIdI9",
        "outputId": "0a126624-aa1d-4387-9d08-9d23cfb8cdca"
      },
      "source": [
        "print(\"Training data for images: \" + str(len(path_train)))\n",
        "print(\"Testing data for images: \" + str(len(path_test)))\n",
        "print(\"Training data for Captions: \" + str(len(cap_train)))\n",
        "print(\"Testing data for Captions: \" + str(len(cap_test)))"
      ],
      "execution_count": null,
      "outputs": [
        {
          "output_type": "stream",
          "text": [
            "Training data for images: 32360\n",
            "Testing data for images: 8095\n",
            "Training data for Captions: 32360\n",
            "Testing data for Captions: 8095\n"
          ],
          "name": "stdout"
        }
      ]
    },
    {
      "cell_type": "code",
      "metadata": {
        "id": "TDD1foRVIdI9"
      },
      "source": [
        "# Create a function which maps the image path to their feature. \n",
        "# This function will take the image_path & caption and return it's feature & respective caption.\n",
        "\n",
        "def map_func(image, caption):# your input variable goes here):\n",
        "    img_tensor = np.load(image.decode('utf-8')+'.npy') # write your code here to extract the features from the dictionary stored earlier\n",
        "    return img_tensor, caption"
      ],
      "execution_count": null,
      "outputs": []
    },
    {
      "cell_type": "markdown",
      "metadata": {
        "id": "_WyV6OVkIdI9"
      },
      "source": [
        "### FAQs on how to load the features:\n",
        "* You can load the features using the dictionary created earlier OR\n",
        "* You can store using numpy(np.load) to load the feature vector."
      ]
    },
    {
      "cell_type": "code",
      "metadata": {
        "id": "qXw4LOJkIdI-",
        "scrolled": true
      },
      "source": [
        "# create a builder function to create dataset which takes in the image path & captions as input\n",
        "# This function should transform the created dataset(img_path,cap) to (features,cap) using the map_func created earlier\n",
        "\n",
        "\n",
        "BATCH_SIZE = 64\n",
        "BUFFER_SIZE = 1000\n",
        "\n",
        "def gen_dataset(images, captions): #your input variables\n",
        "    \n",
        "  # your code goes here to create the dataset & transform it\n",
        "    dataset = tf.data.Dataset.from_tensor_slices((images, captions))\n",
        "\n",
        "  # Use map to load the numpy files in parallel\n",
        "    dataset = dataset.map(lambda item1, item2: tf.numpy_function(\n",
        "          map_func, [item1, item2], [tf.float32, tf.int32]),\n",
        "          num_parallel_calls=tf.data.AUTOTUNE)\n",
        "\n",
        "  # Shuffle and batch\n",
        "    dataset = dataset.shuffle(BUFFER_SIZE).batch(BATCH_SIZE)\n",
        "    dataset = dataset.prefetch(buffer_size=tf.data.AUTOTUNE)\n",
        "    \n",
        "    return dataset\n",
        "\n"
      ],
      "execution_count": null,
      "outputs": []
    },
    {
      "cell_type": "code",
      "metadata": {
        "id": "uaFo22ETIdI-"
      },
      "source": [
        "train_dataset=gen_dataset(path_train,cap_train)\n",
        "test_dataset=gen_dataset(path_test,cap_test)"
      ],
      "execution_count": null,
      "outputs": []
    },
    {
      "cell_type": "code",
      "metadata": {
        "colab": {
          "base_uri": "https://localhost:8080/"
        },
        "id": "YiXID8b-IdI-",
        "outputId": "9450096d-9c3e-46e1-daec-eee0db9c51b0"
      },
      "source": [
        "sample_img_batch, sample_cap_batch = next(iter(train_dataset))\n",
        "print(sample_img_batch.shape)  #(batch_size, 8*8, 2048)\n",
        "print(sample_cap_batch.shape) #(batch_size,max_len)"
      ],
      "execution_count": null,
      "outputs": [
        {
          "output_type": "stream",
          "text": [
            "(64, 64, 2048)\n",
            "(64, 35)\n"
          ],
          "name": "stdout"
        }
      ]
    },
    {
      "cell_type": "markdown",
      "metadata": {
        "id": "fgzzCwlKIdI_"
      },
      "source": [
        "## Model Building\n",
        "1.Set the parameters\n",
        "\n",
        "2.Build the Encoder, Attention model & Decoder"
      ]
    },
    {
      "cell_type": "code",
      "metadata": {
        "id": "qlExZy19IdI_"
      },
      "source": [
        "embedding_dim = 256 \n",
        "units = 512\n",
        "vocab_size = top_k + 1 #top 5,000 words +1\n",
        "train_num_steps = len(path_train) // BATCH_SIZE #len(total train images) // BATCH_SIZE\n",
        "test_num_steps = len(path_test) // BATCH_SIZE #len(total test images) // BATCH_SIZE"
      ],
      "execution_count": null,
      "outputs": []
    },
    {
      "cell_type": "markdown",
      "metadata": {
        "id": "-C_6ApltIdI_"
      },
      "source": [
        "### Encoder"
      ]
    },
    {
      "cell_type": "code",
      "metadata": {
        "id": "Q57kc0aTIdJA"
      },
      "source": [
        "class Encoder(tf.keras.Model):\n",
        "    def __init__(self,embed_dim):\n",
        "        super(Encoder, self).__init__()\n",
        "        self.dense = tf.keras.layers.Dense(embed_dim, activation = tf.keras.activations.relu)  #build your Dense layer with relu activation\n",
        "        \n",
        "    def call(self, features):\n",
        "        features =  self.dense(features) # extract the features from the image shape: (batch, 8*8, embed_dim)\n",
        "        return features"
      ],
      "execution_count": null,
      "outputs": []
    },
    {
      "cell_type": "code",
      "metadata": {
        "id": "UU9h62I3IdJA"
      },
      "source": [
        "\n",
        "encoder=Encoder(embedding_dim)"
      ],
      "execution_count": null,
      "outputs": []
    },
    {
      "cell_type": "markdown",
      "metadata": {
        "id": "eJ4xYX95IdJA"
      },
      "source": [
        "### Attention model"
      ]
    },
    {
      "cell_type": "code",
      "metadata": {
        "id": "zlml9wZIIdJB"
      },
      "source": [
        "class Attention_model(tf.keras.Model):\n",
        "    def __init__(self, units):\n",
        "        super(Attention_model, self).__init__()\n",
        "        self.W1 = tf.keras.layers.Dense(units) #build your Dense layer\n",
        "        self.W2 = tf.keras.layers.Dense(units) #build your Dense layer\n",
        "        self.V = tf.keras.layers.Dense(1) #build your final Dense layer with unit 1\n",
        "        self.units=units\n",
        "\n",
        "    def call(self, features, hidden):\n",
        "        #features shape: (batch_size, 8*8, embedding_dim)\n",
        "        # hidden shape: (batch_size, hidden_size)\n",
        "        hidden_with_time_axis = tf.expand_dims(hidden, 1)  # Expand the hidden shape to shape: (batch_size, 1, hidden_size)\n",
        "        score = self.V(tf.nn.tanh(self.W1(features) + self.W2(hidden_with_time_axis)))# build your score funciton to shape: (batch_size, 8*8, units)\n",
        "        attention_weights =  tf.nn.softmax(score, axis=1) # extract your attention weights with shape: (batch_size, 8*8, 1)\n",
        "        context_vector =  attention_weights * features #shape: create the context vector with shape (batch_size, 8*8,embedding_dim)\n",
        "        context_vector = tf.reduce_sum(context_vector, axis=1) # reduce the shape to (batch_size, embedding_dim)\n",
        "        \n",
        "\n",
        "        return context_vector, attention_weights"
      ],
      "execution_count": null,
      "outputs": []
    },
    {
      "cell_type": "markdown",
      "metadata": {
        "id": "DO473hplIdJB"
      },
      "source": [
        "### Decoder"
      ]
    },
    {
      "cell_type": "code",
      "metadata": {
        "id": "0kbbUgCJIdJC"
      },
      "source": [
        "class Decoder(tf.keras.Model):\n",
        "    def __init__(self, embed_dim, units, vocab_size):\n",
        "        super(Decoder, self).__init__()\n",
        "        self.units=units\n",
        "        self.attention = Attention_model(self.units) #iniitalise your Attention model with units\n",
        "        self.embed = tf.keras.layers.Embedding(vocab_size, embed_dim) #build your Embedding layer\n",
        "        self.gru = tf.keras.layers.GRU(self.units,return_sequences=True,return_state=True,recurrent_initializer='glorot_uniform')\n",
        "        self.d1 = tf.keras.layers.Dense(self.units) #build your Dense layer\n",
        "        self.d2 = tf.keras.layers.Dense(vocab_size) #build your Dense layer\n",
        "        \n",
        "\n",
        "    def call(self,x,features, hidden):\n",
        "        context_vector, attention_weights = self.attention(features, hidden) #create your context vector & attention weights from attention model\n",
        "        embed = self.embed(x) # embed your input to shape: (batch_size, 1, embedding_dim)\n",
        "        embed = tf.concat([tf.expand_dims(context_vector, 1), embed], axis=-1) # Concatenate your input with the context vector from attention layer. Shape: (batch_size, 1, embedding_dim + embedding_dim)\n",
        "        output,state = self.gru(embed) # Extract the output & hidden state from GRU layer. Output shape : (batch_size, max_length, hidden_size)\n",
        "        output = self.d1(output)\n",
        "        output = tf.reshape(output, (-1, output.shape[2])) # shape : (batch_size * max_length, hidden_size)\n",
        "        output = self.d2(output) # shape : (batch_size * max_length, vocab_size)\n",
        "        \n",
        "        return output,state, attention_weights\n",
        "    \n",
        "    def init_state(self, batch_size):\n",
        "        return tf.zeros((batch_size, self.units))"
      ],
      "execution_count": null,
      "outputs": []
    },
    {
      "cell_type": "code",
      "metadata": {
        "id": "blJ2cXlYIdJC"
      },
      "source": [
        "decoder=Decoder(embedding_dim, units, vocab_size)"
      ],
      "execution_count": null,
      "outputs": []
    },
    {
      "cell_type": "code",
      "metadata": {
        "colab": {
          "base_uri": "https://localhost:8080/"
        },
        "id": "3gW1nRWmIdJD",
        "outputId": "03302f8e-1e7a-42bf-fd1e-df2d86c7024c"
      },
      "source": [
        "features=encoder(sample_img_batch)\n",
        "\n",
        "hidden = decoder.init_state(batch_size=sample_cap_batch.shape[0])\n",
        "dec_input = tf.expand_dims([tokenizer.word_index['<start>']] * sample_cap_batch.shape[0], 1)\n",
        "\n",
        "predictions, hidden_out, attention_weights= decoder(dec_input, features, hidden)\n",
        "print('Feature shape from Encoder: {}'.format(features.shape)) #(batch, 8*8, embed_dim)\n",
        "print('Predcitions shape from Decoder: {}'.format(predictions.shape)) #(batch,vocab_size)\n",
        "print('Attention weights shape from Decoder: {}'.format(attention_weights.shape)) #(batch, 8*8, embed_dim)"
      ],
      "execution_count": null,
      "outputs": [
        {
          "output_type": "stream",
          "text": [
            "Feature shape from Encoder: (64, 64, 256)\n",
            "Predcitions shape from Decoder: (64, 5001)\n",
            "Attention weights shape from Decoder: (64, 64, 1)\n"
          ],
          "name": "stdout"
        }
      ]
    },
    {
      "cell_type": "markdown",
      "metadata": {
        "id": "Iob663svIdJF"
      },
      "source": [
        "## Model training & optimization\n",
        "1.Set the optimizer & loss object\n",
        "\n",
        "2.Create your checkpoint path\n",
        "\n",
        "3.Create your training & testing step functions\n",
        "\n",
        "4.Create your loss function for the test dataset"
      ]
    },
    {
      "cell_type": "code",
      "metadata": {
        "id": "yIQ2OnCAIdJG"
      },
      "source": [
        "optimizer = tf.keras.optimizers.Adam() #define the optimizer\n",
        "loss_object = tf.keras.losses.SparseCategoricalCrossentropy(from_logits=True, reduction='none') #define your loss object"
      ],
      "execution_count": null,
      "outputs": []
    },
    {
      "cell_type": "code",
      "metadata": {
        "id": "-sSo9IQ3IdJG"
      },
      "source": [
        "def loss_function(real, pred):\n",
        "    mask = tf.math.logical_not(tf.math.equal(real, 0))\n",
        "    loss_ = loss_object(real, pred)\n",
        "\n",
        "    mask = tf.cast(mask, dtype=loss_.dtype)\n",
        "    loss_ *= mask\n",
        "\n",
        "    return tf.reduce_mean(loss_)"
      ],
      "execution_count": null,
      "outputs": []
    },
    {
      "cell_type": "code",
      "metadata": {
        "id": "TMYVKm7PIdJH"
      },
      "source": [
        "checkpoint_path = \"./checkpoints/train\" \"your checkpoint path\"\n",
        "ckpt = tf.train.Checkpoint(encoder=encoder,\n",
        "                           decoder=decoder,\n",
        "                           optimizer = optimizer)\n",
        "ckpt_manager = tf.train.CheckpointManager(ckpt, checkpoint_path, max_to_keep=5)"
      ],
      "execution_count": null,
      "outputs": []
    },
    {
      "cell_type": "code",
      "metadata": {
        "id": "HANQn6QgIdJH"
      },
      "source": [
        "start_epoch = 0\n",
        "if ckpt_manager.latest_checkpoint:\n",
        "    start_epoch = int(ckpt_manager.latest_checkpoint.split('-')[-1])"
      ],
      "execution_count": null,
      "outputs": []
    },
    {
      "cell_type": "markdown",
      "metadata": {
        "id": "f-FBdXRBIdJH"
      },
      "source": [
        "* While creating the training step for your model, you will apply Teacher forcing.\n",
        "* Teacher forcing is a technique where the target/real word is passed as the next input to the decoder instead of previous prediciton."
      ]
    },
    {
      "cell_type": "code",
      "metadata": {
        "id": "2oCL9TEWIdJI"
      },
      "source": [
        "@tf.function\n",
        "def train_step(img_tensor, target):\n",
        "    loss = 0\n",
        "    hidden = decoder.init_state(batch_size=target.shape[0])\n",
        "    dec_input = tf.expand_dims([tokenizer.word_index['<start>']] * target.shape[0], 1)\n",
        "    \n",
        "    with tf.GradientTape() as tape:\n",
        "        #write your code here to do the training steps\n",
        "        features = encoder(img_tensor)\n",
        "        for i in range(1, target.shape[1]):\n",
        "            predictions, hidden, _ = decoder(dec_input, features, hidden)\n",
        "            loss += loss_function(target[:, i], predictions)\n",
        "            # teacher forcing step\n",
        "            dec_input = tf.expand_dims(target[:, i], 1)\n",
        "    \n",
        "    avg_loss = (loss / int(target.shape[1]))\n",
        "    trainable_variables = encoder.trainable_variables + decoder.trainable_variables\n",
        "    gradients = tape.gradient(loss, trainable_variables)\n",
        "\n",
        "    optimizer.apply_gradients(zip(gradients, trainable_variables))\n",
        "      \n",
        "    return loss, avg_loss"
      ],
      "execution_count": null,
      "outputs": []
    },
    {
      "cell_type": "markdown",
      "metadata": {
        "id": "G6DYpxXCIdJI"
      },
      "source": [
        "* While creating the test step for your model, you will pass your previous prediciton as the next input to the decoder."
      ]
    },
    {
      "cell_type": "code",
      "metadata": {
        "id": "WZtfsJ3DIdJI"
      },
      "source": [
        "@tf.function\n",
        "def test_step(img_tensor, target):\n",
        "    loss = 0\n",
        "    \n",
        "    #write your code here to do the testing steps\n",
        "    hidden = decoder.init_state(batch_size=target.shape[0])\n",
        "    dec_input = tf.expand_dims([tokenizer.word_index['<start>']] * target.shape[0], 1) \n",
        "    features = encoder(img_tensor)\n",
        "\n",
        "    for i in range(1,target.shape[1]):\n",
        "        predictions, hidden, attention_weights = decoder(dec_input, features, hidden)\n",
        "        loss += loss_function(target[:,i], predictions)\n",
        "        pred_id = tf.argmax(predictions[0])\n",
        "\n",
        "        dec_input = tf.expand_dims([pred_id] * target.shape[0], 1)\n",
        "        avg_loss = (loss / int(target.shape[1]))\n",
        "    return loss, avg_loss"
      ],
      "execution_count": null,
      "outputs": []
    },
    {
      "cell_type": "code",
      "metadata": {
        "id": "xYWe8aVhIdJJ"
      },
      "source": [
        "def test_loss_cal(test_dataset):\n",
        "    total_loss = 0\n",
        "\n",
        "    #write your code to get the average loss result on your test data\n",
        "    for (batch, (img_tensor, target)) in enumerate(test_dataset):\n",
        "        batch_loss, t_loss = test_step(img_tensor, target)\n",
        "        total_loss += t_loss\n",
        "        avg_test_loss=total_loss / test_num_steps\n",
        "    return avg_test_loss"
      ],
      "execution_count": null,
      "outputs": []
    },
    {
      "cell_type": "code",
      "metadata": {
        "colab": {
          "background_save": true,
          "base_uri": "https://localhost:8080/"
        },
        "id": "7bc09ZQHIdJJ",
        "outputId": "29f7702d-0d79-4865-d808-fc8968d2a417"
      },
      "source": [
        "loss_plot = []\n",
        "test_loss_plot = []\n",
        "EPOCHS = 20\n",
        "\n",
        "best_test_loss=100\n",
        "for epoch in tqdm(range(0, EPOCHS)):\n",
        "    start = time.time()\n",
        "    total_loss = 0\n",
        "\n",
        "    for (batch, (img_tensor, target)) in enumerate(train_dataset):\n",
        "        batch_loss, t_loss = train_step(img_tensor, target)\n",
        "        total_loss += t_loss\n",
        "        avg_train_loss=total_loss / train_num_steps\n",
        "        \n",
        "    loss_plot.append(avg_train_loss)    \n",
        "    test_loss = test_loss_cal(test_dataset)\n",
        "    test_loss_plot.append(test_loss)\n",
        "    \n",
        "    print ('For epoch: {}, the train loss is {:.3f}, & test loss is {:.3f}'.format(epoch+1,avg_train_loss,test_loss))\n",
        "    print ('Time taken for 1 epoch {} sec\\n'.format(time.time() - start))\n",
        "    \n",
        "    if test_loss < best_test_loss:\n",
        "        print('Test loss has been reduced from %.3f to %.3f' % (best_test_loss, test_loss))\n",
        "        best_test_loss = test_loss\n",
        "        ckpt_manager.save()"
      ],
      "execution_count": null,
      "outputs": [
        {
          "output_type": "stream",
          "text": [
            "\n",
            "  0%|          | 0/20 [00:00<?, ?it/s]\u001b[A"
          ],
          "name": "stderr"
        },
        {
          "output_type": "stream",
          "text": [
            "For epoch: 1, the train loss is 1.377, & test loss is 2.118\n",
            "Time taken for 1 epoch 333.61199378967285 sec\n",
            "\n",
            "Test loss has been reduced from 100.000 to 2.118\n"
          ],
          "name": "stdout"
        },
        {
          "output_type": "stream",
          "text": [
            "\n",
            "  5%|▌         | 1/20 [05:33<1:45:43, 333.89s/it]\u001b[A\n",
            " 10%|█         | 2/20 [09:33<1:31:38, 305.49s/it]\u001b[A"
          ],
          "name": "stderr"
        },
        {
          "output_type": "stream",
          "text": [
            "For epoch: 2, the train loss is 1.070, & test loss is 2.176\n",
            "Time taken for 1 epoch 239.1952543258667 sec\n",
            "\n",
            "For epoch: 3, the train loss is 0.969, & test loss is 2.107\n",
            "Time taken for 1 epoch 217.23539781570435 sec\n",
            "\n",
            "Test loss has been reduced from 2.118 to 2.107\n"
          ],
          "name": "stdout"
        },
        {
          "output_type": "stream",
          "text": [
            "\n",
            " 15%|█▌        | 3/20 [13:10<1:19:04, 279.10s/it]\u001b[A\n",
            " 20%|██        | 4/20 [16:46<1:09:21, 260.09s/it]\u001b[A"
          ],
          "name": "stderr"
        },
        {
          "output_type": "stream",
          "text": [
            "For epoch: 4, the train loss is 0.899, & test loss is 2.170\n",
            "Time taken for 1 epoch 215.70548486709595 sec\n",
            "\n"
          ],
          "name": "stdout"
        },
        {
          "output_type": "stream",
          "text": [
            "\n",
            " 25%|██▌       | 5/20 [20:22<1:01:42, 246.80s/it]\u001b[A"
          ],
          "name": "stderr"
        },
        {
          "output_type": "stream",
          "text": [
            "For epoch: 5, the train loss is 0.840, & test loss is 2.289\n",
            "Time taken for 1 epoch 215.7723650932312 sec\n",
            "\n"
          ],
          "name": "stdout"
        },
        {
          "output_type": "stream",
          "text": [
            "\n",
            " 30%|███       | 6/20 [23:58<55:25, 237.56s/it]  \u001b[A"
          ],
          "name": "stderr"
        },
        {
          "output_type": "stream",
          "text": [
            "For epoch: 6, the train loss is 0.790, & test loss is 2.264\n",
            "Time taken for 1 epoch 215.9826624393463 sec\n",
            "\n"
          ],
          "name": "stdout"
        },
        {
          "output_type": "stream",
          "text": [
            "\n",
            " 35%|███▌      | 7/20 [27:36<50:12, 231.76s/it]\u001b[A"
          ],
          "name": "stderr"
        },
        {
          "output_type": "stream",
          "text": [
            "For epoch: 7, the train loss is 0.746, & test loss is 2.307\n",
            "Time taken for 1 epoch 218.18881559371948 sec\n",
            "\n"
          ],
          "name": "stdout"
        },
        {
          "output_type": "stream",
          "text": [
            "\n",
            " 40%|████      | 8/20 [31:14<45:32, 227.68s/it]\u001b[A"
          ],
          "name": "stderr"
        },
        {
          "output_type": "stream",
          "text": [
            "For epoch: 8, the train loss is 0.704, & test loss is 2.388\n",
            "Time taken for 1 epoch 218.13205122947693 sec\n",
            "\n"
          ],
          "name": "stdout"
        },
        {
          "output_type": "stream",
          "text": [
            "\n",
            " 45%|████▌     | 9/20 [34:52<41:13, 224.88s/it]\u001b[A"
          ],
          "name": "stderr"
        },
        {
          "output_type": "stream",
          "text": [
            "For epoch: 9, the train loss is 0.666, & test loss is 2.414\n",
            "Time taken for 1 epoch 218.32371759414673 sec\n",
            "\n"
          ],
          "name": "stdout"
        },
        {
          "output_type": "stream",
          "text": [
            "\n",
            " 50%|█████     | 10/20 [38:29<37:04, 222.47s/it]\u001b[A"
          ],
          "name": "stderr"
        },
        {
          "output_type": "stream",
          "text": [
            "For epoch: 10, the train loss is 0.630, & test loss is 2.499\n",
            "Time taken for 1 epoch 216.8347578048706 sec\n",
            "\n"
          ],
          "name": "stdout"
        },
        {
          "output_type": "stream",
          "text": [
            "\n",
            " 55%|█████▌    | 11/20 [42:07<33:09, 221.04s/it]\u001b[A"
          ],
          "name": "stderr"
        },
        {
          "output_type": "stream",
          "text": [
            "For epoch: 11, the train loss is 0.597, & test loss is 2.593\n",
            "Time taken for 1 epoch 217.68867564201355 sec\n",
            "\n"
          ],
          "name": "stdout"
        },
        {
          "output_type": "stream",
          "text": [
            "\n",
            " 60%|██████    | 12/20 [45:45<29:20, 220.01s/it]\u001b[A"
          ],
          "name": "stderr"
        },
        {
          "output_type": "stream",
          "text": [
            "For epoch: 12, the train loss is 0.565, & test loss is 2.660\n",
            "Time taken for 1 epoch 217.56265306472778 sec\n",
            "\n"
          ],
          "name": "stdout"
        },
        {
          "output_type": "stream",
          "text": [
            "\n",
            " 65%|██████▌   | 13/20 [49:22<25:34, 219.24s/it]\u001b[A"
          ],
          "name": "stderr"
        },
        {
          "output_type": "stream",
          "text": [
            "For epoch: 13, the train loss is 0.538, & test loss is 2.719\n",
            "Time taken for 1 epoch 217.41319704055786 sec\n",
            "\n"
          ],
          "name": "stdout"
        },
        {
          "output_type": "stream",
          "text": [
            "\n",
            " 70%|███████   | 14/20 [53:00<21:52, 218.80s/it]\u001b[A"
          ],
          "name": "stderr"
        },
        {
          "output_type": "stream",
          "text": [
            "For epoch: 14, the train loss is 0.510, & test loss is 2.823\n",
            "Time taken for 1 epoch 217.75926327705383 sec\n",
            "\n"
          ],
          "name": "stdout"
        },
        {
          "output_type": "stream",
          "text": [
            "\n",
            " 75%|███████▌  | 15/20 [56:38<18:12, 218.55s/it]\u001b[A"
          ],
          "name": "stderr"
        },
        {
          "output_type": "stream",
          "text": [
            "For epoch: 15, the train loss is 0.486, & test loss is 2.887\n",
            "Time taken for 1 epoch 217.95831751823425 sec\n",
            "\n"
          ],
          "name": "stdout"
        },
        {
          "output_type": "stream",
          "text": [
            "\n",
            " 80%|████████  | 16/20 [1:00:16<14:34, 218.56s/it]\u001b[A"
          ],
          "name": "stderr"
        },
        {
          "output_type": "stream",
          "text": [
            "For epoch: 16, the train loss is 0.464, & test loss is 2.952\n",
            "Time taken for 1 epoch 218.54497170448303 sec\n",
            "\n"
          ],
          "name": "stdout"
        },
        {
          "output_type": "stream",
          "text": [
            "\n",
            " 85%|████████▌ | 17/20 [1:03:54<10:55, 218.39s/it]\u001b[A"
          ],
          "name": "stderr"
        },
        {
          "output_type": "stream",
          "text": [
            "For epoch: 17, the train loss is 0.442, & test loss is 3.009\n",
            "Time taken for 1 epoch 217.9434471130371 sec\n",
            "\n"
          ],
          "name": "stdout"
        },
        {
          "output_type": "stream",
          "text": [
            "\n",
            " 90%|█████████ | 18/20 [1:07:31<07:15, 217.93s/it]\u001b[A"
          ],
          "name": "stderr"
        },
        {
          "output_type": "stream",
          "text": [
            "For epoch: 18, the train loss is 0.424, & test loss is 3.105\n",
            "Time taken for 1 epoch 216.86469769477844 sec\n",
            "\n"
          ],
          "name": "stdout"
        },
        {
          "output_type": "stream",
          "text": [
            "\n",
            " 95%|█████████▌| 19/20 [1:11:09<03:37, 217.82s/it]\u001b[A"
          ],
          "name": "stderr"
        },
        {
          "output_type": "stream",
          "text": [
            "For epoch: 19, the train loss is 0.407, & test loss is 3.173\n",
            "Time taken for 1 epoch 217.52684998512268 sec\n",
            "\n"
          ],
          "name": "stdout"
        },
        {
          "output_type": "stream",
          "text": [
            "\n",
            "100%|██████████| 20/20 [1:14:47<00:00, 224.36s/it]"
          ],
          "name": "stderr"
        },
        {
          "output_type": "stream",
          "text": [
            "For epoch: 20, the train loss is 0.391, & test loss is 3.264\n",
            "Time taken for 1 epoch 217.99049973487854 sec\n",
            "\n"
          ],
          "name": "stdout"
        },
        {
          "output_type": "stream",
          "text": [
            "\n"
          ],
          "name": "stderr"
        }
      ]
    },
    {
      "cell_type": "code",
      "metadata": {
        "colab": {
          "base_uri": "https://localhost:8080/",
          "height": 295
        },
        "id": "7rsUspIuIdJK",
        "outputId": "4b2ce80c-3813-440a-a252-1316a925469f"
      },
      "source": [
        "plt.plot(loss_plot)\n",
        "plt.plot(test_loss_plot)\n",
        "plt.xlabel('Epochs')\n",
        "plt.ylabel('Loss')\n",
        "plt.title('Loss Plot')\n",
        "plt.show()"
      ],
      "execution_count": null,
      "outputs": [
        {
          "output_type": "display_data",
          "data": {
            "image/png": "[encoded data removed]",
            "text/plain": [
              "<Figure size 432x288 with 1 Axes>"
            ]
          },
          "metadata": {
            "tags": []
          }
        }
      ]
    },
    {
      "cell_type": "markdown",
      "metadata": {
        "id": "nCUwHJLvIdJK"
      },
      "source": [
        "#### NOTE: \n",
        "* Since there is a difference between the train & test steps ( Presence of teacher forcing), you may observe that the train loss is decreasing while your test loss is not. \n",
        "* This doesn't mean that the model is overfitting, as we can't compare the train & test results here, as both approach is different.\n",
        "* Also, if you want to achieve better results you can run it more epochs, but the intent of this capstone is to give you an idea on how to integrate attention mechanism with E-D architecture for images. The intent is not to create the state of art model. "
      ]
    },
    {
      "cell_type": "markdown",
      "metadata": {
        "id": "s4LJiFl1IdJK"
      },
      "source": [
        "## Model Evaluation\n",
        "1.Define your evaluation function using greedy search\n",
        "\n",
        "2.Define your evaluation function using beam search ( optional)\n",
        "\n",
        "3.Test it on a sample data using BLEU score"
      ]
    },
    {
      "cell_type": "markdown",
      "metadata": {
        "id": "80VF3YdZIdJL"
      },
      "source": [
        "### Greedy Search"
      ]
    },
    {
      "cell_type": "code",
      "metadata": {
        "id": "k_cgHDm3IdJL"
      },
      "source": [
        "def evaluate(image):\n",
        "    attention_plot = np.zeros((max_length, attention_features_shape))\n",
        "\n",
        "    hidden = decoder.reset_state(batch_size=1)\n",
        "\n",
        "    temp_input = tf.expand_dims(load_image(image)[0], 0) #process the input image to desired format before extracting features\n",
        "    img_tensor_val = image_features_extract_model(temp_input) # Extract features using our feature extraction model\n",
        "    img_tensor_val = tf.reshape(img_tensor_val, (img_tensor_val.shape[0], -1, img_tensor_val.shape[3]))\n",
        "\n",
        "    features = encoder(img_tensor_val) # extract the features by passing the input to encoder\n",
        "\n",
        "    dec_input = tf.expand_dims([tokenizer.word_index['<start>']], 0)\n",
        "    result = []\n",
        "\n",
        "    for i in range(max_length):\n",
        "        predictions, hidden, attention_weights = decoder(dec_input, features, hidden) # get the output from decoder\n",
        "\n",
        "        attention_plot[i] = tf.reshape(attention_weights, (-1, )).numpy()\n",
        "\n",
        "        predicted_id = tf.random.categorical(predictions, 1)[0][0].numpy()\n",
        "        result.append(tokenizer.index_word[predicted_id]) #extract the predicted id(embedded value) which carries the max value\n",
        "        #map the id to the word from tokenizer and append the value to the result list\n",
        "\n",
        "        if tokenizer.index_word[predicted_id] == '<end>':\n",
        "            return result, attention_plot,predictions\n",
        "\n",
        "        dec_input = tf.expand_dims([predicted_id], 0)\n",
        "\n",
        "    attention_plot = attention_plot[:len(result), :]\n",
        "    return result, attention_plot,predictions\n"
      ],
      "execution_count": null,
      "outputs": []
    },
    {
      "cell_type": "markdown",
      "metadata": {
        "id": "vEC8hHCTIdJL"
      },
      "source": [
        "### Beam Search(optional)"
      ]
    },
    {
      "cell_type": "code",
      "metadata": {
        "id": "0k5PyJoGIdJL"
      },
      "source": [
        "def beam_evaluate(image, beam_index = #your value for beam index):\n",
        "\n",
        "    #write your code to evaluate the result using beam search\n",
        "                  \n",
        "    return final_caption\n",
        "\n"
      ],
      "execution_count": null,
      "outputs": []
    },
    {
      "cell_type": "code",
      "metadata": {
        "id": "N4c2NLSyIdJM"
      },
      "source": [
        "def plot_attmap(caption, weights, image):\n",
        "\n",
        "    fig = plt.figure(figsize=(10, 10))\n",
        "    temp_img = np.array(Image.open(image))\n",
        "    \n",
        "    len_cap = len(caption)\n",
        "    for cap in range(len_cap):\n",
        "        weights_img = np.reshape(weights[cap], (8,8))\n",
        "        weights_img = np.array(Image.fromarray(weights_img).resize((224, 224), Image.LANCZOS))\n",
        "        \n",
        "        ax = fig.add_subplot(len_cap//2, len_cap//2, cap+1)\n",
        "        ax.set_title(caption[cap], fontsize=15)\n",
        "        \n",
        "        img=ax.imshow(temp_img)\n",
        "        \n",
        "        ax.imshow(weights_img, cmap='gist_heat', alpha=0.6,extent=img.get_extent())\n",
        "        ax.axis('off')\n",
        "    plt.subplots_adjust(hspace=0.2, wspace=0.2)\n",
        "    plt.show()"
      ],
      "execution_count": null,
      "outputs": []
    },
    {
      "cell_type": "code",
      "metadata": {
        "id": "7CMmb5bBIdJM"
      },
      "source": [
        "from nltk.translate.bleu_score import sentence_bleu"
      ],
      "execution_count": null,
      "outputs": []
    },
    {
      "cell_type": "code",
      "metadata": {
        "id": "LBuWyihhIdJN"
      },
      "source": [
        "def filt_text(text):\n",
        "    filt=['<start>','<unk>','<end>'] \n",
        "    temp= text.split()\n",
        "    [temp.remove(j) for k in filt for j in temp if k==j]\n",
        "    text=' '.join(temp)\n",
        "    return text"
      ],
      "execution_count": null,
      "outputs": []
    },
    {
      "cell_type": "code",
      "metadata": {
        "colab": {
          "base_uri": "https://localhost:8080/",
          "height": 235
        },
        "id": "-oEBSe4zIdJN",
        "outputId": "f6ff3590-bd72-4add-8410-75acedd79db9"
      },
      "source": [
        "rid = np.random.randint(0, len(path_test))\n",
        "test_image = path_test[rid]\n",
        "#test_image = './images/413231421_43833a11f5.jpg'\n",
        "#real_caption = '<start> black dog is digging in the snow <end>'\n",
        "\n",
        "real_caption = ' '.join([tokenizer.index_word[i] for i in cap_test[rid] if i not in [0]])\n",
        "result, attention_plot,pred_test = evaluate(test_image)\n",
        "\n",
        "\n",
        "real_caption=filt_text(real_caption)      \n",
        "\n",
        "\n",
        "pred_caption=' '.join(result).rsplit(' ', 1)[0]\n",
        "\n",
        "real_appn = []\n",
        "real_appn.append(real_caption.split())\n",
        "reference = real_appn\n",
        "candidate = pred_caption.split()\n",
        "\n",
        "score = sentence_bleu(reference, candidate, weights=(1,0,0,0)) #set your weights)\n",
        "print(f\"BELU score: {score*100}\")\n",
        "\n",
        "print('Real Caption:', real_caption)\n",
        "print('Prediction Caption:', pred_caption)\n",
        "plot_attmap(result, attention_plot, test_image)\n",
        "\n",
        "\n",
        "Image.open(test_image)"
      ],
      "execution_count": null,
      "outputs": [
        {
          "output_type": "error",
          "ename": "NameError",
          "evalue": "ignored",
          "traceback": [
            "\u001b[0;31m---------------------------------------------------------------------------\u001b[0m",
            "\u001b[0;31mNameError\u001b[0m                                 Traceback (most recent call last)",
            "\u001b[0;32m<ipython-input-2-5d6bb8ce8fd6>\u001b[0m in \u001b[0;36m<module>\u001b[0;34m()\u001b[0m\n\u001b[0;32m----> 1\u001b[0;31m \u001b[0mrid\u001b[0m \u001b[0;34m=\u001b[0m \u001b[0mnp\u001b[0m\u001b[0;34m.\u001b[0m\u001b[0mrandom\u001b[0m\u001b[0;34m.\u001b[0m\u001b[0mrandint\u001b[0m\u001b[0;34m(\u001b[0m\u001b[0;36m0\u001b[0m\u001b[0;34m,\u001b[0m \u001b[0mlen\u001b[0m\u001b[0;34m(\u001b[0m\u001b[0mpath_test\u001b[0m\u001b[0;34m)\u001b[0m\u001b[0;34m)\u001b[0m\u001b[0;34m\u001b[0m\u001b[0;34m\u001b[0m\u001b[0m\n\u001b[0m\u001b[1;32m      2\u001b[0m \u001b[0mtest_image\u001b[0m \u001b[0;34m=\u001b[0m \u001b[0mpath_test\u001b[0m\u001b[0;34m[\u001b[0m\u001b[0mrid\u001b[0m\u001b[0;34m]\u001b[0m\u001b[0;34m\u001b[0m\u001b[0;34m\u001b[0m\u001b[0m\n\u001b[1;32m      3\u001b[0m \u001b[0;31m#test_image = './images/413231421_43833a11f5.jpg'\u001b[0m\u001b[0;34m\u001b[0m\u001b[0;34m\u001b[0m\u001b[0;34m\u001b[0m\u001b[0m\n\u001b[1;32m      4\u001b[0m \u001b[0;31m#real_caption = '<start> black dog is digging in the snow <end>'\u001b[0m\u001b[0;34m\u001b[0m\u001b[0;34m\u001b[0m\u001b[0;34m\u001b[0m\u001b[0m\n\u001b[1;32m      5\u001b[0m \u001b[0;34m\u001b[0m\u001b[0m\n",
            "\u001b[0;31mNameError\u001b[0m: name 'np' is not defined"
          ]
        }
      ]
    },
    {
      "cell_type": "code",
      "metadata": {
        "id": "tvTp5Pn1IdJN"
      },
      "source": [
        "captions=beam_evaluate(test_image)\n",
        "print(captions)"
      ],
      "execution_count": null,
      "outputs": []
    }
  ]
}